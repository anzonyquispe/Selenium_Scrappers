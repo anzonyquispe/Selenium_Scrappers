{
 "cells": [
  {
   "cell_type": "markdown",
   "metadata": {},
   "source": [
    "# Web Scraping SBS"
   ]
  },
  {
   "cell_type": "markdown",
   "metadata": {},
   "source": [
    "## Herramientas\n",
    "\n",
    "- Chromdriver\n",
    "- Selenium\n",
    "    - Selectors\n",
    "    - Frames\n",
    "    - Input\n",
    "- Pandas\n",
    "- For Loop\n",
    "- While Loop"
   ]
  },
  {
   "cell_type": "markdown",
   "metadata": {},
   "source": [
    "## ChromeDriver"
   ]
  },
  {
   "cell_type": "code",
   "execution_count": 1,
   "metadata": {},
   "outputs": [],
   "source": [
    "# !pip install webdriver-manager\n",
    "from webdriver_manager.chrome import ChromeDriverManager\n",
    "from selenium.webdriver.chrome.options import Options"
   ]
  },
  {
   "cell_type": "markdown",
   "metadata": {},
   "source": [
    "## Selenium"
   ]
  },
  {
   "cell_type": "code",
   "execution_count": 2,
   "metadata": {},
   "outputs": [],
   "source": [
    "#!pip install selenium\n",
    "from selenium import webdriver"
   ]
  },
  {
   "cell_type": "markdown",
   "metadata": {},
   "source": [
    "Iniciamos con dos primeras lineas que sirven para setear la forma de presentación de la pantalla. Luego, en una sola línea utilizamos ChromeDriver y Selenium"
   ]
  },
  {
   "cell_type": "code",
   "execution_count": 3,
   "metadata": {},
   "outputs": [
    {
     "name": "stderr",
     "output_type": "stream",
     "text": [
      "\n",
      "\n",
      "====== WebDriver manager ======\n",
      "Current google-chrome version is 106.0.5249\n",
      "Get LATEST chromedriver version for 106.0.5249 google-chrome\n",
      "Trying to download new driver from https://chromedriver.storage.googleapis.com/106.0.5249.61/chromedriver_win32.zip\n",
      "Driver has been saved in cache [C:\\Users\\Anzony\\.wdm\\drivers\\chromedriver\\win32\\106.0.5249.61]\n"
     ]
    }
   ],
   "source": [
    "# Setting\n",
    "options= Options()\n",
    "options.add_argument( \"--start-maximized\" )\n",
    "driver = webdriver.Chrome(ChromeDriverManager().install(),options=options)\n",
    "# With this option we connect with the URL we desire\n",
    "driver.get(\"https://www.sbs.gob.pe/app/pp/EstadisticasSAEEPortal/Paginas/TIActivaTipoCreditoEmpresa.aspx?tip=B#\")"
   ]
  },
  {
   "cell_type": "markdown",
   "metadata": {},
   "source": [
    "## Explorando Html\n",
    "\n",
    "Empezaremos explorando la página y viendo cómo poder obtener la tabla default utilizando selenium. Para ello vamos a inspeccionar la página y ver que cada elemento tiene una forma de seleccionar. Toda página está hecha a través de HTML5 que permite maquetar la página y colocar cada cosa que vemos dentro de una caja. Caminando sobre los elementos podemos llegar a cada caja. Ejemplo:"
   ]
  },
  {
   "cell_type": "code",
   "execution_count": 6,
   "metadata": {},
   "outputs": [
    {
     "data": {
      "text/plain": [
       "'Exportar'"
      ]
     },
     "execution_count": 6,
     "metadata": {},
     "output_type": "execute_result"
    }
   ],
   "source": [
    "driver.find_element_by_id( \"ctl00_cphContent_btnExportar\" ).get_attribute( \"value\" )"
   ]
  },
  {
   "cell_type": "code",
   "execution_count": 7,
   "metadata": {},
   "outputs": [
    {
     "data": {
      "text/plain": [
       "'Ingrese fecha: '"
      ]
     },
     "execution_count": 7,
     "metadata": {},
     "output_type": "execute_result"
    }
   ],
   "source": [
    "driver.find_element_by_css_selector('#ctl00_cphContent_divConsultarDiario > table > tbody > tr > td > table > tbody > tr > td > table > tbody > tr > td.APLI_txtCampo > div').text"
   ]
  },
  {
   "cell_type": "code",
   "execution_count": 8,
   "metadata": {},
   "outputs": [
    {
     "data": {
      "text/plain": [
       "'TASA DE INTERÉS PROMEDIO DEL SISTEMA BANCARIO'"
      ]
     },
     "execution_count": 8,
     "metadata": {},
     "output_type": "execute_result"
    }
   ],
   "source": [
    "driver.find_element_by_xpath( \"/html/body/form/div[4]/div/div/div[1]/table/tbody/tr/td/div/span\").text"
   ]
  },
  {
   "cell_type": "markdown",
   "metadata": {},
   "source": [
    "Podemos identificar los elementos a través de un ID, Selector, FullXpath o Xpath. Con ello identificamos cada elemento. Además, podemos interactuar con ellos. Dar click o inputear alguna información."
   ]
  },
  {
   "cell_type": "markdown",
   "metadata": {},
   "source": [
    "Click"
   ]
  },
  {
   "cell_type": "code",
   "execution_count": 9,
   "metadata": {},
   "outputs": [],
   "source": [
    "driver.find_element_by_id(\"ctl00_cphContent_lbtnMex\").click()\n",
    "import time\n",
    "time.sleep(3)"
   ]
  },
  {
   "cell_type": "markdown",
   "metadata": {},
   "source": [
    "Input Value"
   ]
  },
  {
   "cell_type": "code",
   "execution_count": 12,
   "metadata": {},
   "outputs": [],
   "source": [
    "from selenium.webdriver.common.keys import Keys"
   ]
  },
  {
   "cell_type": "code",
   "execution_count": null,
   "metadata": {},
   "outputs": [],
   "source": [
    "driver.execute_script( f\"document.getElementById('ctl00_cphContent_rdpDate_dateInput').value = '04/07/2007'\")\n",
    "driver.find_element_by_id(\"ctl00_cphContent_rdpDate_dateInput\").send_keys(Keys.RETURN)\n",
    "time.sleep(3)\n",
    "\n",
    "driver.find_element_by_xpath(\"/html/body/form/table\")"
   ]
  },
  {
   "cell_type": "markdown",
   "metadata": {},
   "source": [
    "**¿Por qué no podemos obtener este elemento si existe en la maqueta de html?**\n",
    "\n",
    "\n",
    "Porque este elemento esta dentro de otro html que a su vez está embebido a esta página web."
   ]
  },
  {
   "cell_type": "code",
   "execution_count": 16,
   "metadata": {},
   "outputs": [],
   "source": [
    "# Cambiamos de frame\n",
    "driver.switch_to.frame(driver.find_element_by_id(\"ctl00_cphContent_pnContenidoAnteriorMnASP\"))"
   ]
  },
  {
   "cell_type": "code",
   "execution_count": 17,
   "metadata": {},
   "outputs": [],
   "source": [
    "# Seleccionamos la tabla\n",
    "tabla = driver.find_element_by_xpath(\"/html/body/form/table\")"
   ]
  },
  {
   "cell_type": "code",
   "execution_count": 20,
   "metadata": {},
   "outputs": [
    {
     "data": {
      "text/plain": [
       "<selenium.webdriver.remote.webelement.WebElement (session=\"13de3453e725908ffd5f7c62b25bf95a\", element=\"ab71d3ba-4f6b-4231-9eb2-4cb8faa03973\")>"
      ]
     },
     "execution_count": 20,
     "metadata": {},
     "output_type": "execute_result"
    }
   ],
   "source": [
    "driver.switch_to.default_content()\n",
    "driver.find_element_by_id(\"ctl00_cphContent_btnConsultar\")"
   ]
  },
  {
   "cell_type": "markdown",
   "metadata": {},
   "source": [
    "### ¿Cómo lidiamos con las tablas?\n",
    "\n",
    "La forma más fácil es usando pandas para leer html. Pandas te permite importar datos desde una estructura HTML. La estructura de las tablas cambia para fechas antiguas y para fechas modernas."
   ]
  },
  {
   "cell_type": "markdown",
   "metadata": {},
   "source": [
    "#### Antiguos"
   ]
  },
  {
   "cell_type": "code",
   "execution_count": 26,
   "metadata": {},
   "outputs": [],
   "source": [
    "# Input date\n",
    "driver.execute_script( f\"document.getElementById('ctl00_cphContent_rdpDate_dateInput').value = '30/10/2015'\")\n",
    "driver.find_element_by_id(\"ctl00_cphContent_rdpDate_dateInput\").send_keys(Keys.RETURN)\n",
    "time.sleep(3)\n",
    "# # Cambiamos de frame\n",
    "driver.switch_to.frame(driver.find_element_by_id(\"ctl00_cphContent_pnContenidoAnteriorMnASP\"))\n",
    "driver.find_element_by_xpath(\"/html/body/form/table\")\n",
    "# Seleccionamos la tabla\n",
    "tabla = driver.find_element_by_xpath(\"/html/body/form/table\")\n",
    "\n",
    "tabla_html = tabla.get_attribute('outerHTML')\n",
    "# # Volvemos al frame principal\n",
    "driver.switch_to.default_content()"
   ]
  },
  {
   "cell_type": "code",
   "execution_count": 34,
   "metadata": {},
   "outputs": [],
   "source": [
    "import pandas as pd\n",
    "tablas = pd.read_html(tabla_html)"
   ]
  },
  {
   "cell_type": "code",
   "execution_count": null,
   "metadata": {},
   "outputs": [],
   "source": [
    "tabla_reducida = tablas[2].iloc[2:, :]\n",
    "tabla_reducida"
   ]
  },
  {
   "cell_type": "code",
   "execution_count": 38,
   "metadata": {},
   "outputs": [],
   "source": [
    "tabla_reducida.to_excel( r\"C:\\Users\\Anzony\\Downloads/file.xlsx\", index = False, header= False )"
   ]
  },
  {
   "cell_type": "markdown",
   "metadata": {},
   "source": [
    "### Recientes "
   ]
  },
  {
   "cell_type": "code",
   "execution_count": 41,
   "metadata": {},
   "outputs": [],
   "source": [
    "# Input date\n",
    "driver.execute_script( f\"document.getElementById('ctl00_cphContent_rdpDate_dateInput').value = '30/11/2015'\")\n",
    "driver.find_element_by_id(\"ctl00_cphContent_rdpDate_dateInput\").send_keys(Keys.RETURN)\n",
    "time.sleep(4)\n",
    "\n",
    "# Identificar directamente la tabla\n",
    "# Seleccionamos la tabla\n",
    "tabla = driver.find_element_by_id(\"ctl00_cphContent_rpgActualMn_OT\")\n",
    "tabla_html = tabla.get_attribute('outerHTML')\n"
   ]
  },
  {
   "cell_type": "code",
   "execution_count": 236,
   "metadata": {},
   "outputs": [],
   "source": [
    "import numpy as np"
   ]
  },
  {
   "cell_type": "code",
   "execution_count": 50,
   "metadata": {},
   "outputs": [
    {
     "data": {
      "text/html": [
       "<div>\n",
       "<style scoped>\n",
       "    .dataframe tbody tr th:only-of-type {\n",
       "        vertical-align: middle;\n",
       "    }\n",
       "\n",
       "    .dataframe tbody tr th {\n",
       "        vertical-align: top;\n",
       "    }\n",
       "\n",
       "    .dataframe thead th {\n",
       "        text-align: right;\n",
       "    }\n",
       "</style>\n",
       "<table border=\"1\" class=\"dataframe\">\n",
       "  <thead>\n",
       "    <tr style=\"text-align: right;\">\n",
       "      <th></th>\n",
       "      <th>Continental</th>\n",
       "      <th>Comercio</th>\n",
       "      <th>Crédito</th>\n",
       "      <th>Financiero</th>\n",
       "      <th>BIF</th>\n",
       "      <th>Scotiabank</th>\n",
       "      <th>Citibank</th>\n",
       "      <th>Interbank</th>\n",
       "      <th>Mibanco</th>\n",
       "      <th>GNB</th>\n",
       "      <th>Falabella</th>\n",
       "      <th>Santander</th>\n",
       "      <th>Ripley</th>\n",
       "      <th>Azteca</th>\n",
       "      <th>Deutsche</th>\n",
       "      <th>CAT</th>\n",
       "      <th>ICBC</th>\n",
       "      <th>Promedio</th>\n",
       "      <th>Unnamed: 18</th>\n",
       "    </tr>\n",
       "  </thead>\n",
       "  <tbody>\n",
       "    <tr>\n",
       "      <th>30</th>\n",
       "      <td>24.49</td>\n",
       "      <td>ContinentalComercioCréditoFinancieroBIFScotiab...</td>\n",
       "      <td>36.15</td>\n",
       "      <td>27.60</td>\n",
       "      <td>33.78</td>\n",
       "      <td>15.09</td>\n",
       "      <td>24.68</td>\n",
       "      <td>-</td>\n",
       "      <td>22.94</td>\n",
       "      <td>37.27</td>\n",
       "      <td>-</td>\n",
       "      <td>4.50</td>\n",
       "      <td>-</td>\n",
       "      <td>-</td>\n",
       "      <td>-</td>\n",
       "      <td>-</td>\n",
       "      <td>-</td>\n",
       "      <td>-</td>\n",
       "      <td>34.37</td>\n",
       "    </tr>\n",
       "    <tr>\n",
       "      <th>31</th>\n",
       "      <td>36.17</td>\n",
       "      <td>ContinentalComercioCréditoFinancieroBIFScotiab...</td>\n",
       "      <td>29.74</td>\n",
       "      <td>29.99</td>\n",
       "      <td>64.84</td>\n",
       "      <td>-</td>\n",
       "      <td>34.02</td>\n",
       "      <td>-</td>\n",
       "      <td>-</td>\n",
       "      <td>-</td>\n",
       "      <td>-</td>\n",
       "      <td>-</td>\n",
       "      <td>-</td>\n",
       "      <td>-</td>\n",
       "      <td>-</td>\n",
       "      <td>-</td>\n",
       "      <td>-</td>\n",
       "      <td>-</td>\n",
       "      <td>30.76</td>\n",
       "    </tr>\n",
       "    <tr>\n",
       "      <th>32</th>\n",
       "      <td>19.47</td>\n",
       "      <td>ContinentalComercioCréditoFinancieroBIFScotiab...</td>\n",
       "      <td>-</td>\n",
       "      <td>11.32</td>\n",
       "      <td>15.50</td>\n",
       "      <td>20.00</td>\n",
       "      <td>21.45</td>\n",
       "      <td>-</td>\n",
       "      <td>9.89</td>\n",
       "      <td>-</td>\n",
       "      <td>-</td>\n",
       "      <td>-</td>\n",
       "      <td>-</td>\n",
       "      <td>-</td>\n",
       "      <td>-</td>\n",
       "      <td>-</td>\n",
       "      <td>-</td>\n",
       "      <td>-</td>\n",
       "      <td>18.14</td>\n",
       "    </tr>\n",
       "    <tr>\n",
       "      <th>33</th>\n",
       "      <td>-</td>\n",
       "      <td>ContinentalComercioCréditoFinancieroBIFScotiab...</td>\n",
       "      <td>-</td>\n",
       "      <td>-</td>\n",
       "      <td>-</td>\n",
       "      <td>13.49</td>\n",
       "      <td>-</td>\n",
       "      <td>-</td>\n",
       "      <td>20.81</td>\n",
       "      <td>-</td>\n",
       "      <td>-</td>\n",
       "      <td>-</td>\n",
       "      <td>-</td>\n",
       "      <td>-</td>\n",
       "      <td>-</td>\n",
       "      <td>-</td>\n",
       "      <td>-</td>\n",
       "      <td>-</td>\n",
       "      <td>19.16</td>\n",
       "    </tr>\n",
       "    <tr>\n",
       "      <th>34</th>\n",
       "      <td>20.06</td>\n",
       "      <td>ContinentalComercioCréditoFinancieroBIFScotiab...</td>\n",
       "      <td>-</td>\n",
       "      <td>-</td>\n",
       "      <td>39.63</td>\n",
       "      <td>-</td>\n",
       "      <td>26.22</td>\n",
       "      <td>-</td>\n",
       "      <td>-</td>\n",
       "      <td>40.60</td>\n",
       "      <td>-</td>\n",
       "      <td>4.50</td>\n",
       "      <td>-</td>\n",
       "      <td>-</td>\n",
       "      <td>-</td>\n",
       "      <td>-</td>\n",
       "      <td>-</td>\n",
       "      <td>-</td>\n",
       "      <td>17.46</td>\n",
       "    </tr>\n",
       "    <tr>\n",
       "      <th>...</th>\n",
       "      <td>...</td>\n",
       "      <td>...</td>\n",
       "      <td>...</td>\n",
       "      <td>...</td>\n",
       "      <td>...</td>\n",
       "      <td>...</td>\n",
       "      <td>...</td>\n",
       "      <td>...</td>\n",
       "      <td>...</td>\n",
       "      <td>...</td>\n",
       "      <td>...</td>\n",
       "      <td>...</td>\n",
       "      <td>...</td>\n",
       "      <td>...</td>\n",
       "      <td>...</td>\n",
       "      <td>...</td>\n",
       "      <td>...</td>\n",
       "      <td>...</td>\n",
       "      <td>...</td>\n",
       "    </tr>\n",
       "    <tr>\n",
       "      <th>89</th>\n",
       "      <td>Préstamos no Revolventes para libre disponibil...</td>\n",
       "      <td>NaN</td>\n",
       "      <td>NaN</td>\n",
       "      <td>NaN</td>\n",
       "      <td>NaN</td>\n",
       "      <td>NaN</td>\n",
       "      <td>NaN</td>\n",
       "      <td>NaN</td>\n",
       "      <td>NaN</td>\n",
       "      <td>NaN</td>\n",
       "      <td>NaN</td>\n",
       "      <td>NaN</td>\n",
       "      <td>NaN</td>\n",
       "      <td>NaN</td>\n",
       "      <td>NaN</td>\n",
       "      <td>NaN</td>\n",
       "      <td>NaN</td>\n",
       "      <td>NaN</td>\n",
       "      <td>NaN</td>\n",
       "    </tr>\n",
       "    <tr>\n",
       "      <th>90</th>\n",
       "      <td>Préstamos no Revolventes para libre disponibil...</td>\n",
       "      <td>NaN</td>\n",
       "      <td>NaN</td>\n",
       "      <td>NaN</td>\n",
       "      <td>NaN</td>\n",
       "      <td>NaN</td>\n",
       "      <td>NaN</td>\n",
       "      <td>NaN</td>\n",
       "      <td>NaN</td>\n",
       "      <td>NaN</td>\n",
       "      <td>NaN</td>\n",
       "      <td>NaN</td>\n",
       "      <td>NaN</td>\n",
       "      <td>NaN</td>\n",
       "      <td>NaN</td>\n",
       "      <td>NaN</td>\n",
       "      <td>NaN</td>\n",
       "      <td>NaN</td>\n",
       "      <td>NaN</td>\n",
       "    </tr>\n",
       "    <tr>\n",
       "      <th>91</th>\n",
       "      <td>Créditos pignoraticios</td>\n",
       "      <td>NaN</td>\n",
       "      <td>NaN</td>\n",
       "      <td>NaN</td>\n",
       "      <td>NaN</td>\n",
       "      <td>NaN</td>\n",
       "      <td>NaN</td>\n",
       "      <td>NaN</td>\n",
       "      <td>NaN</td>\n",
       "      <td>NaN</td>\n",
       "      <td>NaN</td>\n",
       "      <td>NaN</td>\n",
       "      <td>NaN</td>\n",
       "      <td>NaN</td>\n",
       "      <td>NaN</td>\n",
       "      <td>NaN</td>\n",
       "      <td>NaN</td>\n",
       "      <td>NaN</td>\n",
       "      <td>NaN</td>\n",
       "    </tr>\n",
       "    <tr>\n",
       "      <th>92</th>\n",
       "      <td>Hipotecarios</td>\n",
       "      <td>NaN</td>\n",
       "      <td>NaN</td>\n",
       "      <td>NaN</td>\n",
       "      <td>NaN</td>\n",
       "      <td>NaN</td>\n",
       "      <td>NaN</td>\n",
       "      <td>NaN</td>\n",
       "      <td>NaN</td>\n",
       "      <td>NaN</td>\n",
       "      <td>NaN</td>\n",
       "      <td>NaN</td>\n",
       "      <td>NaN</td>\n",
       "      <td>NaN</td>\n",
       "      <td>NaN</td>\n",
       "      <td>NaN</td>\n",
       "      <td>NaN</td>\n",
       "      <td>NaN</td>\n",
       "      <td>NaN</td>\n",
       "    </tr>\n",
       "    <tr>\n",
       "      <th>93</th>\n",
       "      <td>Préstamos hipotecarios para vivienda</td>\n",
       "      <td>NaN</td>\n",
       "      <td>NaN</td>\n",
       "      <td>NaN</td>\n",
       "      <td>NaN</td>\n",
       "      <td>NaN</td>\n",
       "      <td>NaN</td>\n",
       "      <td>NaN</td>\n",
       "      <td>NaN</td>\n",
       "      <td>NaN</td>\n",
       "      <td>NaN</td>\n",
       "      <td>NaN</td>\n",
       "      <td>NaN</td>\n",
       "      <td>NaN</td>\n",
       "      <td>NaN</td>\n",
       "      <td>NaN</td>\n",
       "      <td>NaN</td>\n",
       "      <td>NaN</td>\n",
       "      <td>NaN</td>\n",
       "    </tr>\n",
       "  </tbody>\n",
       "</table>\n",
       "<p>64 rows × 19 columns</p>\n",
       "</div>"
      ],
      "text/plain": [
       "                                          Continental  \\\n",
       "30                                              24.49   \n",
       "31                                              36.17   \n",
       "32                                              19.47   \n",
       "33                                                  -   \n",
       "34                                              20.06   \n",
       "..                                                ...   \n",
       "89  Préstamos no Revolventes para libre disponibil...   \n",
       "90  Préstamos no Revolventes para libre disponibil...   \n",
       "91                             Créditos pignoraticios   \n",
       "92                                       Hipotecarios   \n",
       "93               Préstamos hipotecarios para vivienda   \n",
       "\n",
       "                                             Comercio Crédito Financiero  \\\n",
       "30  ContinentalComercioCréditoFinancieroBIFScotiab...   36.15      27.60   \n",
       "31  ContinentalComercioCréditoFinancieroBIFScotiab...   29.74      29.99   \n",
       "32  ContinentalComercioCréditoFinancieroBIFScotiab...       -      11.32   \n",
       "33  ContinentalComercioCréditoFinancieroBIFScotiab...       -          -   \n",
       "34  ContinentalComercioCréditoFinancieroBIFScotiab...       -          -   \n",
       "..                                                ...     ...        ...   \n",
       "89                                                NaN     NaN        NaN   \n",
       "90                                                NaN     NaN        NaN   \n",
       "91                                                NaN     NaN        NaN   \n",
       "92                                                NaN     NaN        NaN   \n",
       "93                                                NaN     NaN        NaN   \n",
       "\n",
       "      BIF Scotiabank Citibank Interbank Mibanco    GNB Falabella Santander  \\\n",
       "30  33.78      15.09    24.68         -   22.94  37.27         -      4.50   \n",
       "31  64.84          -    34.02         -       -      -         -         -   \n",
       "32  15.50      20.00    21.45         -    9.89      -         -         -   \n",
       "33      -      13.49        -         -   20.81      -         -         -   \n",
       "34  39.63          -    26.22         -       -  40.60         -      4.50   \n",
       "..    ...        ...      ...       ...     ...    ...       ...       ...   \n",
       "89    NaN        NaN      NaN       NaN     NaN    NaN       NaN       NaN   \n",
       "90    NaN        NaN      NaN       NaN     NaN    NaN       NaN       NaN   \n",
       "91    NaN        NaN      NaN       NaN     NaN    NaN       NaN       NaN   \n",
       "92    NaN        NaN      NaN       NaN     NaN    NaN       NaN       NaN   \n",
       "93    NaN        NaN      NaN       NaN     NaN    NaN       NaN       NaN   \n",
       "\n",
       "   Ripley Azteca Deutsche  CAT ICBC Promedio Unnamed: 18  \n",
       "30      -      -        -    -    -        -       34.37  \n",
       "31      -      -        -    -    -        -       30.76  \n",
       "32      -      -        -    -    -        -       18.14  \n",
       "33      -      -        -    -    -        -       19.16  \n",
       "34      -      -        -    -    -        -       17.46  \n",
       "..    ...    ...      ...  ...  ...      ...         ...  \n",
       "89    NaN    NaN      NaN  NaN  NaN      NaN         NaN  \n",
       "90    NaN    NaN      NaN  NaN  NaN      NaN         NaN  \n",
       "91    NaN    NaN      NaN  NaN  NaN      NaN         NaN  \n",
       "92    NaN    NaN      NaN  NaN  NaN      NaN         NaN  \n",
       "93    NaN    NaN      NaN  NaN  NaN      NaN         NaN  \n",
       "\n",
       "[64 rows x 19 columns]"
      ]
     },
     "execution_count": 50,
     "metadata": {},
     "output_type": "execute_result"
    }
   ],
   "source": [
    "table0.iloc[30:, :]"
   ]
  },
  {
   "cell_type": "code",
   "execution_count": 53,
   "metadata": {},
   "outputs": [],
   "source": [
    "import numpy as np"
   ]
  },
  {
   "cell_type": "code",
   "execution_count": 54,
   "metadata": {},
   "outputs": [
    {
     "data": {
      "text/plain": [
       "array([ 1,  2,  3,  4,  5,  6,  7,  8,  9, 10, 11, 12, 13, 14, 15, 16, 17,\n",
       "       18, 19, 20, 21, 22, 23, 24, 25, 26, 27, 28, 29, 30, 31, 32, 33, 34,\n",
       "       35, 36, 37, 38, 39, 40, 41, 42, 43, 44, 45, 46, 47])"
      ]
     },
     "execution_count": 54,
     "metadata": {},
     "output_type": "execute_result"
    }
   ],
   "source": [
    "# Number of rows of second table\n",
    "tb1_rows = table1.shape[0]\n",
    "drop_rows = np.arange( 1, tb1_rows + 2 )\n",
    "drop_rows"
   ]
  },
  {
   "cell_type": "code",
   "execution_count": null,
   "metadata": {},
   "outputs": [],
   "source": [
    "# Clean first table\n",
    "table0 = table0.drop( drop_rows, axis = 0 )\n",
    "table0"
   ]
  },
  {
   "cell_type": "code",
   "execution_count": null,
   "metadata": {},
   "outputs": [],
   "source": [
    "# Assign values to new table\n",
    "col_name = table0.iloc[0, 0]\n",
    "col_values = table0.iloc[1:, 0].tolist()\n",
    "table_clean.insert( loc = 0, column= col_name, value = col_values)\n",
    "table_clean1 = table_clean.copy()\n",
    "table_clean1"
   ]
  },
  {
   "cell_type": "markdown",
   "metadata": {},
   "source": [
    "Conseguimos exportar nuestra primera tabla. Ahora, tenemos que hacer esto para todas las últimsa fechas de cada mes donde haya disponible información de la SBS. Por lo tanto, tenemos que introducir información en el input de fecha y hacer la consulta para cada fecha."
   ]
  },
  {
   "cell_type": "markdown",
   "metadata": {},
   "source": [
    "**¿Cómo conseguimos las última fechas de cada mes?**\n",
    "\n",
    "Vamos a utilizar la herramienta datetime de pandas."
   ]
  },
  {
   "cell_type": "code",
   "execution_count": 65,
   "metadata": {},
   "outputs": [
    {
     "data": {
      "text/html": [
       "<div>\n",
       "<style scoped>\n",
       "    .dataframe tbody tr th:only-of-type {\n",
       "        vertical-align: middle;\n",
       "    }\n",
       "\n",
       "    .dataframe tbody tr th {\n",
       "        vertical-align: top;\n",
       "    }\n",
       "\n",
       "    .dataframe thead th {\n",
       "        text-align: right;\n",
       "    }\n",
       "</style>\n",
       "<table border=\"1\" class=\"dataframe\">\n",
       "  <thead>\n",
       "    <tr style=\"text-align: right;\">\n",
       "      <th></th>\n",
       "      <th>date_real</th>\n",
       "    </tr>\n",
       "  </thead>\n",
       "  <tbody>\n",
       "    <tr>\n",
       "      <th>0</th>\n",
       "      <td>2004-01-01</td>\n",
       "    </tr>\n",
       "    <tr>\n",
       "      <th>1</th>\n",
       "      <td>2004-01-02</td>\n",
       "    </tr>\n",
       "    <tr>\n",
       "      <th>2</th>\n",
       "      <td>2004-01-03</td>\n",
       "    </tr>\n",
       "    <tr>\n",
       "      <th>3</th>\n",
       "      <td>2004-01-04</td>\n",
       "    </tr>\n",
       "    <tr>\n",
       "      <th>4</th>\n",
       "      <td>2004-01-05</td>\n",
       "    </tr>\n",
       "    <tr>\n",
       "      <th>...</th>\n",
       "      <td>...</td>\n",
       "    </tr>\n",
       "    <tr>\n",
       "      <th>6813</th>\n",
       "      <td>2022-08-27</td>\n",
       "    </tr>\n",
       "    <tr>\n",
       "      <th>6814</th>\n",
       "      <td>2022-08-28</td>\n",
       "    </tr>\n",
       "    <tr>\n",
       "      <th>6815</th>\n",
       "      <td>2022-08-29</td>\n",
       "    </tr>\n",
       "    <tr>\n",
       "      <th>6816</th>\n",
       "      <td>2022-08-30</td>\n",
       "    </tr>\n",
       "    <tr>\n",
       "      <th>6817</th>\n",
       "      <td>2022-08-31</td>\n",
       "    </tr>\n",
       "  </tbody>\n",
       "</table>\n",
       "<p>6818 rows × 1 columns</p>\n",
       "</div>"
      ],
      "text/plain": [
       "      date_real\n",
       "0    2004-01-01\n",
       "1    2004-01-02\n",
       "2    2004-01-03\n",
       "3    2004-01-04\n",
       "4    2004-01-05\n",
       "...         ...\n",
       "6813 2022-08-27\n",
       "6814 2022-08-28\n",
       "6815 2022-08-29\n",
       "6816 2022-08-30\n",
       "6817 2022-08-31\n",
       "\n",
       "[6818 rows x 1 columns]"
      ]
     },
     "execution_count": 65,
     "metadata": {},
     "output_type": "execute_result"
    }
   ],
   "source": [
    "# Generamos un rango de fechas\n",
    "data_date = pd.DataFrame( {'date_real' : pd.date_range(start=\"01-01-2004\",end=\"08-31-2022\") })\n",
    "data_date"
   ]
  },
  {
   "cell_type": "code",
   "execution_count": 66,
   "metadata": {},
   "outputs": [
    {
     "data": {
      "text/html": [
       "<div>\n",
       "<style scoped>\n",
       "    .dataframe tbody tr th:only-of-type {\n",
       "        vertical-align: middle;\n",
       "    }\n",
       "\n",
       "    .dataframe tbody tr th {\n",
       "        vertical-align: top;\n",
       "    }\n",
       "\n",
       "    .dataframe thead th {\n",
       "        text-align: right;\n",
       "    }\n",
       "</style>\n",
       "<table border=\"1\" class=\"dataframe\">\n",
       "  <thead>\n",
       "    <tr style=\"text-align: right;\">\n",
       "      <th></th>\n",
       "      <th>date_real</th>\n",
       "      <th>date_info</th>\n",
       "      <th>Day</th>\n",
       "      <th>Month</th>\n",
       "      <th>Year</th>\n",
       "    </tr>\n",
       "  </thead>\n",
       "  <tbody>\n",
       "    <tr>\n",
       "      <th>0</th>\n",
       "      <td>2004-01-01</td>\n",
       "      <td>01/01/2004</td>\n",
       "      <td>1</td>\n",
       "      <td>1</td>\n",
       "      <td>2004</td>\n",
       "    </tr>\n",
       "    <tr>\n",
       "      <th>1</th>\n",
       "      <td>2004-01-02</td>\n",
       "      <td>02/01/2004</td>\n",
       "      <td>2</td>\n",
       "      <td>1</td>\n",
       "      <td>2004</td>\n",
       "    </tr>\n",
       "    <tr>\n",
       "      <th>2</th>\n",
       "      <td>2004-01-03</td>\n",
       "      <td>03/01/2004</td>\n",
       "      <td>3</td>\n",
       "      <td>1</td>\n",
       "      <td>2004</td>\n",
       "    </tr>\n",
       "    <tr>\n",
       "      <th>3</th>\n",
       "      <td>2004-01-04</td>\n",
       "      <td>04/01/2004</td>\n",
       "      <td>4</td>\n",
       "      <td>1</td>\n",
       "      <td>2004</td>\n",
       "    </tr>\n",
       "    <tr>\n",
       "      <th>4</th>\n",
       "      <td>2004-01-05</td>\n",
       "      <td>05/01/2004</td>\n",
       "      <td>5</td>\n",
       "      <td>1</td>\n",
       "      <td>2004</td>\n",
       "    </tr>\n",
       "    <tr>\n",
       "      <th>...</th>\n",
       "      <td>...</td>\n",
       "      <td>...</td>\n",
       "      <td>...</td>\n",
       "      <td>...</td>\n",
       "      <td>...</td>\n",
       "    </tr>\n",
       "    <tr>\n",
       "      <th>6813</th>\n",
       "      <td>2022-08-27</td>\n",
       "      <td>27/08/2022</td>\n",
       "      <td>27</td>\n",
       "      <td>8</td>\n",
       "      <td>2022</td>\n",
       "    </tr>\n",
       "    <tr>\n",
       "      <th>6814</th>\n",
       "      <td>2022-08-28</td>\n",
       "      <td>28/08/2022</td>\n",
       "      <td>28</td>\n",
       "      <td>8</td>\n",
       "      <td>2022</td>\n",
       "    </tr>\n",
       "    <tr>\n",
       "      <th>6815</th>\n",
       "      <td>2022-08-29</td>\n",
       "      <td>29/08/2022</td>\n",
       "      <td>29</td>\n",
       "      <td>8</td>\n",
       "      <td>2022</td>\n",
       "    </tr>\n",
       "    <tr>\n",
       "      <th>6816</th>\n",
       "      <td>2022-08-30</td>\n",
       "      <td>30/08/2022</td>\n",
       "      <td>30</td>\n",
       "      <td>8</td>\n",
       "      <td>2022</td>\n",
       "    </tr>\n",
       "    <tr>\n",
       "      <th>6817</th>\n",
       "      <td>2022-08-31</td>\n",
       "      <td>31/08/2022</td>\n",
       "      <td>31</td>\n",
       "      <td>8</td>\n",
       "      <td>2022</td>\n",
       "    </tr>\n",
       "  </tbody>\n",
       "</table>\n",
       "<p>6818 rows × 5 columns</p>\n",
       "</div>"
      ],
      "text/plain": [
       "      date_real   date_info  Day  Month  Year\n",
       "0    2004-01-01  01/01/2004    1      1  2004\n",
       "1    2004-01-02  02/01/2004    2      1  2004\n",
       "2    2004-01-03  03/01/2004    3      1  2004\n",
       "3    2004-01-04  04/01/2004    4      1  2004\n",
       "4    2004-01-05  05/01/2004    5      1  2004\n",
       "...         ...         ...  ...    ...   ...\n",
       "6813 2022-08-27  27/08/2022   27      8  2022\n",
       "6814 2022-08-28  28/08/2022   28      8  2022\n",
       "6815 2022-08-29  29/08/2022   29      8  2022\n",
       "6816 2022-08-30  30/08/2022   30      8  2022\n",
       "6817 2022-08-31  31/08/2022   31      8  2022\n",
       "\n",
       "[6818 rows x 5 columns]"
      ]
     },
     "execution_count": 66,
     "metadata": {},
     "output_type": "execute_result"
    }
   ],
   "source": [
    "# Les damos un formato y separamos los dias meses y años\n",
    "data_date['date_info'] = data_date.date_real.dt.strftime(\"%d/%m/%Y\")\n",
    "data_date\n",
    "data_split = data_date.date_info.str.split(\"/\", expand= True ).astype(int)\n",
    "data_split.columns = [\"Day\", \"Month\", \"Year\"]\n",
    "data_date = pd.concat([ data_date, data_split ], axis = 1 )\n",
    "data_date"
   ]
  },
  {
   "cell_type": "code",
   "execution_count": 67,
   "metadata": {},
   "outputs": [
    {
     "data": {
      "text/plain": [
       "[Timestamp('2004-01-31 00:00:00'),\n",
       " Timestamp('2004-02-29 00:00:00'),\n",
       " Timestamp('2004-03-31 00:00:00'),\n",
       " Timestamp('2004-04-30 00:00:00'),\n",
       " Timestamp('2004-05-31 00:00:00'),\n",
       " Timestamp('2004-06-30 00:00:00'),\n",
       " Timestamp('2004-07-31 00:00:00'),\n",
       " Timestamp('2004-08-31 00:00:00'),\n",
       " Timestamp('2004-09-30 00:00:00'),\n",
       " Timestamp('2004-10-31 00:00:00'),\n",
       " Timestamp('2004-11-30 00:00:00'),\n",
       " Timestamp('2004-12-31 00:00:00'),\n",
       " Timestamp('2005-01-31 00:00:00'),\n",
       " Timestamp('2005-02-28 00:00:00'),\n",
       " Timestamp('2005-03-31 00:00:00'),\n",
       " Timestamp('2005-04-30 00:00:00'),\n",
       " Timestamp('2005-05-31 00:00:00'),\n",
       " Timestamp('2005-06-30 00:00:00'),\n",
       " Timestamp('2005-07-31 00:00:00'),\n",
       " Timestamp('2005-08-31 00:00:00'),\n",
       " Timestamp('2005-09-30 00:00:00'),\n",
       " Timestamp('2005-10-31 00:00:00'),\n",
       " Timestamp('2005-11-30 00:00:00'),\n",
       " Timestamp('2005-12-31 00:00:00'),\n",
       " Timestamp('2006-01-31 00:00:00'),\n",
       " Timestamp('2006-02-28 00:00:00'),\n",
       " Timestamp('2006-03-31 00:00:00'),\n",
       " Timestamp('2006-04-30 00:00:00'),\n",
       " Timestamp('2006-05-31 00:00:00'),\n",
       " Timestamp('2006-06-30 00:00:00'),\n",
       " Timestamp('2006-07-31 00:00:00'),\n",
       " Timestamp('2006-08-31 00:00:00'),\n",
       " Timestamp('2006-09-30 00:00:00'),\n",
       " Timestamp('2006-10-31 00:00:00'),\n",
       " Timestamp('2006-11-30 00:00:00'),\n",
       " Timestamp('2006-12-31 00:00:00'),\n",
       " Timestamp('2007-01-31 00:00:00'),\n",
       " Timestamp('2007-02-28 00:00:00'),\n",
       " Timestamp('2007-03-31 00:00:00'),\n",
       " Timestamp('2007-04-30 00:00:00'),\n",
       " Timestamp('2007-05-31 00:00:00'),\n",
       " Timestamp('2007-06-30 00:00:00'),\n",
       " Timestamp('2007-07-31 00:00:00'),\n",
       " Timestamp('2007-08-31 00:00:00'),\n",
       " Timestamp('2007-09-30 00:00:00'),\n",
       " Timestamp('2007-10-31 00:00:00'),\n",
       " Timestamp('2007-11-30 00:00:00'),\n",
       " Timestamp('2007-12-31 00:00:00'),\n",
       " Timestamp('2008-01-31 00:00:00'),\n",
       " Timestamp('2008-02-29 00:00:00'),\n",
       " Timestamp('2008-03-31 00:00:00'),\n",
       " Timestamp('2008-04-30 00:00:00'),\n",
       " Timestamp('2008-05-31 00:00:00'),\n",
       " Timestamp('2008-06-30 00:00:00'),\n",
       " Timestamp('2008-07-31 00:00:00'),\n",
       " Timestamp('2008-08-31 00:00:00'),\n",
       " Timestamp('2008-09-30 00:00:00'),\n",
       " Timestamp('2008-10-31 00:00:00'),\n",
       " Timestamp('2008-11-30 00:00:00'),\n",
       " Timestamp('2008-12-31 00:00:00'),\n",
       " Timestamp('2009-01-31 00:00:00'),\n",
       " Timestamp('2009-02-28 00:00:00'),\n",
       " Timestamp('2009-03-31 00:00:00'),\n",
       " Timestamp('2009-04-30 00:00:00'),\n",
       " Timestamp('2009-05-31 00:00:00'),\n",
       " Timestamp('2009-06-30 00:00:00'),\n",
       " Timestamp('2009-07-31 00:00:00'),\n",
       " Timestamp('2009-08-31 00:00:00'),\n",
       " Timestamp('2009-09-30 00:00:00'),\n",
       " Timestamp('2009-10-31 00:00:00'),\n",
       " Timestamp('2009-11-30 00:00:00'),\n",
       " Timestamp('2009-12-31 00:00:00'),\n",
       " Timestamp('2010-01-31 00:00:00'),\n",
       " Timestamp('2010-02-28 00:00:00'),\n",
       " Timestamp('2010-03-31 00:00:00'),\n",
       " Timestamp('2010-04-30 00:00:00'),\n",
       " Timestamp('2010-05-31 00:00:00'),\n",
       " Timestamp('2010-06-30 00:00:00'),\n",
       " Timestamp('2010-07-31 00:00:00'),\n",
       " Timestamp('2010-08-31 00:00:00'),\n",
       " Timestamp('2010-09-30 00:00:00'),\n",
       " Timestamp('2010-10-31 00:00:00'),\n",
       " Timestamp('2010-11-30 00:00:00'),\n",
       " Timestamp('2010-12-31 00:00:00'),\n",
       " Timestamp('2011-01-31 00:00:00'),\n",
       " Timestamp('2011-02-28 00:00:00'),\n",
       " Timestamp('2011-03-31 00:00:00'),\n",
       " Timestamp('2011-04-30 00:00:00'),\n",
       " Timestamp('2011-05-31 00:00:00'),\n",
       " Timestamp('2011-06-30 00:00:00'),\n",
       " Timestamp('2011-07-31 00:00:00'),\n",
       " Timestamp('2011-08-31 00:00:00'),\n",
       " Timestamp('2011-09-30 00:00:00'),\n",
       " Timestamp('2011-10-31 00:00:00'),\n",
       " Timestamp('2011-11-30 00:00:00'),\n",
       " Timestamp('2011-12-31 00:00:00'),\n",
       " Timestamp('2012-01-31 00:00:00'),\n",
       " Timestamp('2012-02-29 00:00:00'),\n",
       " Timestamp('2012-03-31 00:00:00'),\n",
       " Timestamp('2012-04-30 00:00:00'),\n",
       " Timestamp('2012-05-31 00:00:00'),\n",
       " Timestamp('2012-06-30 00:00:00'),\n",
       " Timestamp('2012-07-31 00:00:00'),\n",
       " Timestamp('2012-08-31 00:00:00'),\n",
       " Timestamp('2012-09-30 00:00:00'),\n",
       " Timestamp('2012-10-31 00:00:00'),\n",
       " Timestamp('2012-11-30 00:00:00'),\n",
       " Timestamp('2012-12-31 00:00:00'),\n",
       " Timestamp('2013-01-31 00:00:00'),\n",
       " Timestamp('2013-02-28 00:00:00'),\n",
       " Timestamp('2013-03-31 00:00:00'),\n",
       " Timestamp('2013-04-30 00:00:00'),\n",
       " Timestamp('2013-05-31 00:00:00'),\n",
       " Timestamp('2013-06-30 00:00:00'),\n",
       " Timestamp('2013-07-31 00:00:00'),\n",
       " Timestamp('2013-08-31 00:00:00'),\n",
       " Timestamp('2013-09-30 00:00:00'),\n",
       " Timestamp('2013-10-31 00:00:00'),\n",
       " Timestamp('2013-11-30 00:00:00'),\n",
       " Timestamp('2013-12-31 00:00:00'),\n",
       " Timestamp('2014-01-31 00:00:00'),\n",
       " Timestamp('2014-02-28 00:00:00'),\n",
       " Timestamp('2014-03-31 00:00:00'),\n",
       " Timestamp('2014-04-30 00:00:00'),\n",
       " Timestamp('2014-05-31 00:00:00'),\n",
       " Timestamp('2014-06-30 00:00:00'),\n",
       " Timestamp('2014-07-31 00:00:00'),\n",
       " Timestamp('2014-08-31 00:00:00'),\n",
       " Timestamp('2014-09-30 00:00:00'),\n",
       " Timestamp('2014-10-31 00:00:00'),\n",
       " Timestamp('2014-11-30 00:00:00'),\n",
       " Timestamp('2014-12-31 00:00:00'),\n",
       " Timestamp('2015-01-31 00:00:00'),\n",
       " Timestamp('2015-02-28 00:00:00'),\n",
       " Timestamp('2015-03-31 00:00:00'),\n",
       " Timestamp('2015-04-30 00:00:00'),\n",
       " Timestamp('2015-05-31 00:00:00'),\n",
       " Timestamp('2015-06-30 00:00:00'),\n",
       " Timestamp('2015-07-31 00:00:00'),\n",
       " Timestamp('2015-08-31 00:00:00'),\n",
       " Timestamp('2015-09-30 00:00:00'),\n",
       " Timestamp('2015-10-31 00:00:00'),\n",
       " Timestamp('2015-11-30 00:00:00'),\n",
       " Timestamp('2015-12-31 00:00:00'),\n",
       " Timestamp('2016-01-31 00:00:00'),\n",
       " Timestamp('2016-02-29 00:00:00'),\n",
       " Timestamp('2016-03-31 00:00:00'),\n",
       " Timestamp('2016-04-30 00:00:00'),\n",
       " Timestamp('2016-05-31 00:00:00'),\n",
       " Timestamp('2016-06-30 00:00:00'),\n",
       " Timestamp('2016-07-31 00:00:00'),\n",
       " Timestamp('2016-08-31 00:00:00'),\n",
       " Timestamp('2016-09-30 00:00:00'),\n",
       " Timestamp('2016-10-31 00:00:00'),\n",
       " Timestamp('2016-11-30 00:00:00'),\n",
       " Timestamp('2016-12-31 00:00:00'),\n",
       " Timestamp('2017-01-31 00:00:00'),\n",
       " Timestamp('2017-02-28 00:00:00'),\n",
       " Timestamp('2017-03-31 00:00:00'),\n",
       " Timestamp('2017-04-30 00:00:00'),\n",
       " Timestamp('2017-05-31 00:00:00'),\n",
       " Timestamp('2017-06-30 00:00:00'),\n",
       " Timestamp('2017-07-31 00:00:00'),\n",
       " Timestamp('2017-08-31 00:00:00'),\n",
       " Timestamp('2017-09-30 00:00:00'),\n",
       " Timestamp('2017-10-31 00:00:00'),\n",
       " Timestamp('2017-11-30 00:00:00'),\n",
       " Timestamp('2017-12-31 00:00:00'),\n",
       " Timestamp('2018-01-31 00:00:00'),\n",
       " Timestamp('2018-02-28 00:00:00'),\n",
       " Timestamp('2018-03-31 00:00:00'),\n",
       " Timestamp('2018-04-30 00:00:00'),\n",
       " Timestamp('2018-05-31 00:00:00'),\n",
       " Timestamp('2018-06-30 00:00:00'),\n",
       " Timestamp('2018-07-31 00:00:00'),\n",
       " Timestamp('2018-08-31 00:00:00'),\n",
       " Timestamp('2018-09-30 00:00:00'),\n",
       " Timestamp('2018-10-31 00:00:00'),\n",
       " Timestamp('2018-11-30 00:00:00'),\n",
       " Timestamp('2018-12-31 00:00:00'),\n",
       " Timestamp('2019-01-31 00:00:00'),\n",
       " Timestamp('2019-02-28 00:00:00'),\n",
       " Timestamp('2019-03-31 00:00:00'),\n",
       " Timestamp('2019-04-30 00:00:00'),\n",
       " Timestamp('2019-05-31 00:00:00'),\n",
       " Timestamp('2019-06-30 00:00:00'),\n",
       " Timestamp('2019-07-31 00:00:00'),\n",
       " Timestamp('2019-08-31 00:00:00'),\n",
       " Timestamp('2019-09-30 00:00:00'),\n",
       " Timestamp('2019-10-31 00:00:00'),\n",
       " Timestamp('2019-11-30 00:00:00'),\n",
       " Timestamp('2019-12-31 00:00:00'),\n",
       " Timestamp('2020-01-31 00:00:00'),\n",
       " Timestamp('2020-02-29 00:00:00'),\n",
       " Timestamp('2020-03-31 00:00:00'),\n",
       " Timestamp('2020-04-30 00:00:00'),\n",
       " Timestamp('2020-05-31 00:00:00'),\n",
       " Timestamp('2020-06-30 00:00:00'),\n",
       " Timestamp('2020-07-31 00:00:00'),\n",
       " Timestamp('2020-08-31 00:00:00'),\n",
       " Timestamp('2020-09-30 00:00:00'),\n",
       " Timestamp('2020-10-31 00:00:00'),\n",
       " Timestamp('2020-11-30 00:00:00'),\n",
       " Timestamp('2020-12-31 00:00:00'),\n",
       " Timestamp('2021-01-31 00:00:00'),\n",
       " Timestamp('2021-02-28 00:00:00'),\n",
       " Timestamp('2021-03-31 00:00:00'),\n",
       " Timestamp('2021-04-30 00:00:00'),\n",
       " Timestamp('2021-05-31 00:00:00'),\n",
       " Timestamp('2021-06-30 00:00:00'),\n",
       " Timestamp('2021-07-31 00:00:00'),\n",
       " Timestamp('2021-08-31 00:00:00'),\n",
       " Timestamp('2021-09-30 00:00:00'),\n",
       " Timestamp('2021-10-31 00:00:00'),\n",
       " Timestamp('2021-11-30 00:00:00'),\n",
       " Timestamp('2021-12-31 00:00:00'),\n",
       " Timestamp('2022-01-31 00:00:00'),\n",
       " Timestamp('2022-02-28 00:00:00'),\n",
       " Timestamp('2022-03-31 00:00:00'),\n",
       " Timestamp('2022-04-30 00:00:00'),\n",
       " Timestamp('2022-05-31 00:00:00'),\n",
       " Timestamp('2022-06-30 00:00:00'),\n",
       " Timestamp('2022-07-31 00:00:00'),\n",
       " Timestamp('2022-08-31 00:00:00')]"
      ]
     },
     "execution_count": 67,
     "metadata": {},
     "output_type": "execute_result"
    }
   ],
   "source": [
    "# Tomamos la última fecha\n",
    "data_date['date_real'] = pd.to_datetime(data_date.date_info, format=\"%d/%m/%Y\")\n",
    "# Get the last 5 days per month\n",
    "final_date_data = data_date.sort_values('date_real').groupby([ \"Year\" , \"Month\" ]).tail(1).reset_index(drop = True)\n",
    "dates_list = final_date_data.date_real.tolist()\n",
    "dates_list"
   ]
  },
  {
   "cell_type": "markdown",
   "metadata": {},
   "source": [
    "Tenemos una lista de los último días de cada mes desde 2000 al 2022. La idea es empezar en este día e ir probando hacia atrás hasta encontrarnos con el último día en el que se haya reportado información. Para hacer este proceso iterativo utilizaremos un while loop.\n",
    "\n",
    "While loop es un proceso iterativo que se repite hasta que cierta condición se cumple. Para nuestro caso, hasta que hayamos encontrado una tabla. Ahora, debemos tener en cuenta que el driver puede enfrentarse a dos tipos de tablas como las que ya vimos arriba. Todo esto lo tendremos que tomar en cuenta."
   ]
  },
  {
   "cell_type": "markdown",
   "metadata": {},
   "source": [
    "Primero, iniciemos con una fecha última la cual no tiene tabla \"31/07/2022\"."
   ]
  },
  {
   "cell_type": "code",
   "execution_count": 68,
   "metadata": {},
   "outputs": [
    {
     "name": "stdout",
     "output_type": "stream",
     "text": [
      "31/07/2022\n"
     ]
    }
   ],
   "source": [
    "import time\n",
    "\n",
    "# \n",
    "# le damos el fomato que queremos\n",
    "last_day = dates_list[-2]\n",
    "last_day_str = last_day.strftime(\"%d/%m/%Y\")\n",
    "print(last_day_str)\n",
    "\n",
    "# repetimos el proceso de obtener tablas\n",
    "driver.execute_script( f\"document.getElementById('ctl00_cphContent_rdpDate_dateInput').value = '{last_day_str}'\")\n",
    "driver.find_element_by_id(\"ctl00_cphContent_rdpDate_dateInput\").send_keys(Keys.RETURN)\n",
    "time.sleep( 2 )"
   ]
  },
  {
   "cell_type": "markdown",
   "metadata": {},
   "source": [
    "Lo que hariamos es ir a un dia anterior \"30/07/2022\"."
   ]
  },
  {
   "cell_type": "code",
   "execution_count": 69,
   "metadata": {},
   "outputs": [
    {
     "name": "stdout",
     "output_type": "stream",
     "text": [
      "30/07/2022\n"
     ]
    }
   ],
   "source": [
    "# Vamos un dia anterior\n",
    "from datetime import datetime, timedelta\n",
    "last_day = last_day - timedelta(days= 1)\n",
    "last_day_str = last_day.strftime(\"%d/%m/%Y\")\n",
    "print(last_day_str)\n",
    "\n",
    "\n",
    "# repetimos el proceso de obtener tablas\n",
    "driver.execute_script( f\"document.getElementById('ctl00_cphContent_rdpDate_dateInput').value = '{last_day}'\")\n",
    "driver.find_element_by_id(\"ctl00_cphContent_rdpDate_dateInput\").send_keys(Keys.RETURN)\n",
    "time.sleep( 2 )"
   ]
  },
  {
   "cell_type": "markdown",
   "metadata": {},
   "source": [
    "Como esta fecha tampoco tiene tabla tenemos que ir a un día anterior \"29/07/2022\"."
   ]
  },
  {
   "cell_type": "code",
   "execution_count": 70,
   "metadata": {},
   "outputs": [
    {
     "name": "stdout",
     "output_type": "stream",
     "text": [
      "29/07/2022\n"
     ]
    }
   ],
   "source": [
    "# Vamos un dia anterior\n",
    "from datetime import datetime, timedelta\n",
    "last_day = last_day - timedelta(days= 1)\n",
    "last_day_str = last_day.strftime(\"%d/%m/%Y\")\n",
    "print(last_day_str)\n",
    "\n",
    "\n",
    "# repetimos el proceso de obtener tablas\n",
    "driver.execute_script( f\"document.getElementById('ctl00_cphContent_rdpDate_dateInput').value = '{last_day}'\")\n",
    "driver.find_element_by_id(\"ctl00_cphContent_rdpDate_dateInput\").send_keys(Keys.RETURN)\n",
    "time.sleep( 2 )"
   ]
  },
  {
   "cell_type": "markdown",
   "metadata": {},
   "source": [
    "Una vez más \"28/07/2022\"."
   ]
  },
  {
   "cell_type": "code",
   "execution_count": 71,
   "metadata": {},
   "outputs": [
    {
     "name": "stdout",
     "output_type": "stream",
     "text": [
      "28/07/2022\n"
     ]
    }
   ],
   "source": [
    "# Vamos un dia anterior\n",
    "from datetime import datetime, timedelta\n",
    "last_day = last_day - timedelta(days= 1)\n",
    "last_day_str = last_day.strftime(\"%d/%m/%Y\")\n",
    "print(last_day_str)\n",
    "\n",
    "\n",
    "# repetimos el proceso de obtener tablas\n",
    "driver.execute_script( f\"document.getElementById('ctl00_cphContent_rdpDate_dateInput').value = '{last_day}'\")\n",
    "driver.find_element_by_id(\"ctl00_cphContent_rdpDate_dateInput\").send_keys(Keys.RETURN)\n",
    "time.sleep( 2 )"
   ]
  },
  {
   "cell_type": "markdown",
   "metadata": {},
   "source": [
    "Una vez más \"27/07/2022\"."
   ]
  },
  {
   "cell_type": "code",
   "execution_count": 72,
   "metadata": {},
   "outputs": [
    {
     "name": "stdout",
     "output_type": "stream",
     "text": [
      "27/07/2022\n"
     ]
    }
   ],
   "source": [
    "# Vamos un dia anterior\n",
    "from datetime import datetime, timedelta\n",
    "last_day = last_day - timedelta(days= 1)\n",
    "last_day_str = last_day.strftime(\"%d/%m/%Y\")\n",
    "print(last_day_str)\n",
    "\n",
    "\n",
    "# repetimos el proceso de obtener tablas\n",
    "driver.execute_script( f\"document.getElementById('ctl00_cphContent_rdpDate_dateInput').value = '{last_day}'\")\n",
    "driver.find_element_by_id(\"ctl00_cphContent_rdpDate_dateInput\").send_keys(Keys.RETURN)\n",
    "time.sleep( 2 )"
   ]
  },
  {
   "cell_type": "markdown",
   "metadata": {},
   "source": [
    "Aquí, sí encontramos información. Entonces, el scrpaer tiene que recorrer hacia atrás hasta encontrar una tabla. Esto lo podemos hacer utilizando los ojos, pero como lo haría el scraper. Bueno, provando si existe una table como las antiguas o las recientes. Para eso utilizaremos `try`."
   ]
  },
  {
   "cell_type": "code",
   "execution_count": 75,
   "metadata": {},
   "outputs": [
    {
     "name": "stdout",
     "output_type": "stream",
     "text": [
      "31/07/2022\n",
      "No Tenemos una tabla tipo antigua\n"
     ]
    }
   ],
   "source": [
    "# le damos el fomato que queremos\n",
    "last_day_str = \"31/07/2022\"\n",
    "print(last_day_str)\n",
    "\n",
    "# repetimos el proceso de obtener tablas\n",
    "driver.execute_script( f\"document.getElementById('ctl00_cphContent_rdpDate_dateInput').value = '{last_day_str}'\")\n",
    "driver.find_element_by_id(\"ctl00_cphContent_rdpDate_dateInput\").send_keys(Keys.RETURN)\n",
    "time.sleep( 2 )\n",
    "\n",
    "# busquems la tabla\n",
    "# prueba si es una tabla tipo antigua\n",
    "try:\n",
    "    # Cambiamos de frame\n",
    "    driver.switch_to.frame(driver.find_element_by_id(\"ctl00_cphContent_pnContenidoAnteriorMnASP\"))\n",
    "    driver.find_element_by_xpath(\"/html/body/form/table\")\n",
    "    # Seleccionamos la tabla\n",
    "    tabla = driver.find_element_by_xpath(\"/html/body/form/table\")\n",
    "\n",
    "    tabla_html = tabla.get_attribute('outerHTML')\n",
    "    # Volvemos al frame principal\n",
    "    driver.switch_to.default_content()\n",
    "    tablas = pd.read_html(tabla_html)\n",
    "    tabla_reducida = tablas[2].iloc[2:, :]\n",
    "    tabla_reducida\n",
    "    # Dame el numero de columnas\n",
    "    print( \"Tenemos una tabla tipo antigua\")\n",
    "except:\n",
    "    print( \"No Tenemos una tabla tipo antigua\")"
   ]
  },
  {
   "cell_type": "code",
   "execution_count": 77,
   "metadata": {},
   "outputs": [
    {
     "name": "stdout",
     "output_type": "stream",
     "text": [
      "31/07/2022\n",
      "No Tenemos Una tabla Reciente\n"
     ]
    }
   ],
   "source": [
    "# Probemos una tabla reciente\n",
    "# le damos el fomato que queremos\n",
    "last_day_str = \"31/07/2022\"\n",
    "print(last_day_str)\n",
    "\n",
    "# repetimos el proceso de obtener tablas\n",
    "driver.execute_script( f\"document.getElementById('ctl00_cphContent_rdpDate_dateInput').value = '{last_day_str}'\")\n",
    "driver.find_element_by_id(\"ctl00_cphContent_rdpDate_dateInput\").send_keys(Keys.RETURN)\n",
    "time.sleep( 5 )\n",
    "try:\n",
    "\n",
    "    # Identificar directamente la tabla\n",
    "    # Seleccionamos la tabla\n",
    "    tabla = driver.find_element_by_id(\"ctl00_cphContent_rpgActualMn_OT\")\n",
    "    tabla_html = tabla.get_attribute('outerHTML')\n",
    "    tablas = pd.read_html(tabla_html)\n",
    "    tablas\n",
    "    # generate table objects\n",
    "    table0, table1 = tablas[0], tablas[1]\n",
    "    table_clean = table1.copy()\n",
    "\n",
    "    # Number of rows of second table\n",
    "    tb1_rows = table1.shape[0]\n",
    "    drop_rows = np.arange( 1, tb1_rows + 2 )\n",
    "\n",
    "    # Clean first table\n",
    "    table0 = table0.drop( drop_rows, axis = 0 )\n",
    "\n",
    "    # Assign values to new table\n",
    "    col_name = table0.iloc[0, 0]\n",
    "    col_values = table0.iloc[1:, 0].tolist()\n",
    "    table_clean.insert( loc = 0, column= col_name, value = col_values)\n",
    "    table_clean1 = table_clean.copy()\n",
    "    table_clean1\n",
    "    print(\"Tenemos Una tabla Reciente\")\n",
    "except:\n",
    "    print(\"No Tenemos Una tabla Reciente\")"
   ]
  },
  {
   "cell_type": "markdown",
   "metadata": {},
   "source": [
    "Como no tenemos ni tabla reciente, ni antigua, entonces probemos con el dia que si sabemos que hay tabla"
   ]
  },
  {
   "cell_type": "code",
   "execution_count": 78,
   "metadata": {},
   "outputs": [
    {
     "name": "stdout",
     "output_type": "stream",
     "text": [
      "27/07/2022\n",
      "No Tenemos una tabla tipo antigua\n",
      "Tenemos Una tabla Reciente\n"
     ]
    }
   ],
   "source": [
    "# le damos el fomato que queremos\n",
    "last_day_str = \"27/07/2022\"\n",
    "print(last_day_str)\n",
    "\n",
    "# repetimos el proceso de obtener tablas\n",
    "driver.execute_script( f\"document.getElementById('ctl00_cphContent_rdpDate_dateInput').value = '{last_day_str}'\")\n",
    "driver.find_element_by_id(\"ctl00_cphContent_rdpDate_dateInput\").send_keys(Keys.RETURN)\n",
    "time.sleep( 3 )\n",
    "\n",
    "# busquems la tabla\n",
    "# prueba si es una tabla tipo antigua\n",
    "try:\n",
    "    # Cambiamos de frame\n",
    "    driver.switch_to.frame(driver.find_element_by_id(\"ctl00_cphContent_pnContenidoAnteriorMnASP\"))\n",
    "    driver.find_element_by_xpath(\"/html/body/form/table\")\n",
    "    # Seleccionamos la tabla\n",
    "    tabla = driver.find_element_by_xpath(\"/html/body/form/table\")\n",
    "\n",
    "    tabla_html = tabla.get_attribute('outerHTML')\n",
    "    # Volvemos al frame principal\n",
    "    driver.switch_to.default_content()\n",
    "    tablas = pd.read_html(tabla_html)\n",
    "    tabla_reducida = tablas[2].iloc[2:, :]\n",
    "    tabla_reducida\n",
    "    # Dame el numero de columnas\n",
    "    print( \"Tenemos una tabla tipo antigua\")\n",
    "except:\n",
    "    print( \"No Tenemos una tabla tipo antigua\")\n",
    "    \n",
    "\n",
    "try:\n",
    "\n",
    "    # Identificar directamente la tabla\n",
    "    # Seleccionamos la tabla\n",
    "    tabla = driver.find_element_by_id(\"ctl00_cphContent_rpgActualMn_OT\")\n",
    "    tabla_html = tabla.get_attribute('outerHTML')\n",
    "    tablas = pd.read_html(tabla_html)\n",
    "    tablas\n",
    "    # generate table objects\n",
    "    table0, table1 = tablas[0], tablas[1]\n",
    "    table_clean = table1.copy()\n",
    "\n",
    "    # Number of rows of second table\n",
    "    tb1_rows = table1.shape[0]\n",
    "    drop_rows = np.arange( 1, tb1_rows + 2 )\n",
    "\n",
    "    # Clean first table\n",
    "    table0 = table0.drop( drop_rows, axis = 0 )\n",
    "\n",
    "    # Assign values to new table\n",
    "    col_name = table0.iloc[0, 0]\n",
    "    col_values = table0.iloc[1:, 0].tolist()\n",
    "    table_clean.insert( loc = 0, column= col_name, value = col_values)\n",
    "    table_clean1 = table_clean.copy()\n",
    "    table_clean1\n",
    "    print(\"Tenemos Una tabla Reciente\")\n",
    "except:\n",
    "    print(\"No Tenemos Una tabla Reciente\")"
   ]
  },
  {
   "cell_type": "markdown",
   "metadata": {},
   "source": [
    "Bien, ya vimos que pudimos identificar las tablas. Ahora, utilicemos el while loop para hacer esto automaticamente. Vamos a permitirle al driver que retroceda hasta una semana."
   ]
  },
  {
   "cell_type": "code",
   "execution_count": 79,
   "metadata": {},
   "outputs": [
    {
     "name": "stdout",
     "output_type": "stream",
     "text": [
      "31/07/2022\n",
      "No Tenemos una tabla tipo antigua\n",
      "No Tenemos Una tabla Reciente\n",
      "30/07/2022\n",
      "No Tenemos una tabla tipo antigua\n",
      "No Tenemos Una tabla Reciente\n",
      "29/07/2022\n",
      "No Tenemos una tabla tipo antigua\n",
      "No Tenemos Una tabla Reciente\n",
      "28/07/2022\n",
      "No Tenemos una tabla tipo antigua\n",
      "No Tenemos Una tabla Reciente\n",
      "27/07/2022\n",
      "No Tenemos una tabla tipo antigua\n",
      "Tenemos Una tabla Reciente\n"
     ]
    }
   ],
   "source": [
    "days_before = 0\n",
    "last_day = dates_list[-2]\n",
    "while days_before < 8:\n",
    "    \n",
    "    # le damos el fomato que queremos\n",
    "    last_day_str = last_day.strftime(\"%d/%m/%Y\")\n",
    "    print(last_day_str)\n",
    "\n",
    "    # repetimos el proceso de obtener tablas\n",
    "    driver.execute_script( f\"document.getElementById('ctl00_cphContent_rdpDate_dateInput').value = '{last_day_str}'\")\n",
    "    driver.find_element_by_id(\"ctl00_cphContent_rdpDate_dateInput\").send_keys(Keys.RETURN)\n",
    "    time.sleep( 4 )\n",
    "\n",
    "    # busquems la tabla\n",
    "    # prueba si es una tabla tipo antigua\n",
    "    try:\n",
    "        # Cambiamos de frame\n",
    "        driver.switch_to.frame(driver.find_element_by_id(\"ctl00_cphContent_pnContenidoAnteriorMnASP\"))\n",
    "        driver.find_element_by_xpath(\"/html/body/form/table\")\n",
    "        # Seleccionamos la tabla\n",
    "        tabla = driver.find_element_by_xpath(\"/html/body/form/table\")\n",
    "\n",
    "        tabla_html = tabla.get_attribute('outerHTML')\n",
    "        # Volvemos al frame principal\n",
    "        driver.switch_to.default_content()\n",
    "        tablas = pd.read_html(tabla_html)\n",
    "        tabla_antigua = tablas[2].iloc[2:, :]\n",
    "        tabla_antigua\n",
    "        # Dame el numero de columnas\n",
    "        print( \"Tenemos una tabla tipo antigua\")\n",
    "    except:\n",
    "        print( \"No Tenemos una tabla tipo antigua\")\n",
    "        tabla_antigua = \"\"\n",
    "\n",
    "\n",
    "    try:\n",
    "\n",
    "        # Identificar directamente la tabla\n",
    "        # Seleccionamos la tabla\n",
    "        tabla = driver.find_element_by_id(\"ctl00_cphContent_rpgActualMn_OT\")\n",
    "        tabla_html = tabla.get_attribute('outerHTML')\n",
    "        tablas = pd.read_html(tabla_html)\n",
    "        tablas\n",
    "        # generate table objects\n",
    "        table0, table1 = tablas[0], tablas[1]\n",
    "        table_clean = table1.copy()\n",
    "\n",
    "        # Number of rows of second table\n",
    "        tb1_rows = table1.shape[0]\n",
    "        drop_rows = np.arange( 1, tb1_rows + 2 )\n",
    "\n",
    "        # Clean first table\n",
    "        table0 = table0.drop( drop_rows, axis = 0 )\n",
    "\n",
    "        # Assign values to new table\n",
    "        col_name = table0.iloc[0, 0]\n",
    "        col_values = table0.iloc[1:, 0].tolist()\n",
    "        table_clean.insert( loc = 0, column= col_name, value = col_values)\n",
    "        tabla_reciente = table_clean.copy()\n",
    "        tabla_reciente\n",
    "        print(\"Tenemos Una tabla Reciente\")\n",
    "    except:\n",
    "        print(\"No Tenemos Una tabla Reciente\")\n",
    "        tabla_reciente = \"\"\n",
    "        \n",
    "\n",
    "    if ( ( isinstance( tabla_reciente, str ) == True ) and ( isinstance( tabla_antigua, str ) == True ) ):\n",
    "        days_before = 1 + days_before\n",
    "        last_day = last_day - timedelta(days= 1)\n",
    "        \n",
    "    elif ( isinstance( tabla_reciente, str ) == False ) and ( tabla_reciente.shape[1] > 5 ) :\n",
    "        days_before = 8 \n",
    "    \n",
    "    elif ( isinstance( tabla_antigua, str ) == False ) and ( tabla_antigua.shape[1] > 5 ):\n",
    "        days_before = 8 "
   ]
  },
  {
   "cell_type": "markdown",
   "metadata": {},
   "source": [
    "Encontramos la tabla y discrimanamos por tipo de tabla. Lo que faltaría es replicar este procedimiento para todas las últimas fechas que tenemos en la lista y esto lo hacemos utilizando el for loop."
   ]
  },
  {
   "cell_type": "code",
   "execution_count": 80,
   "metadata": {},
   "outputs": [
    {
     "name": "stdout",
     "output_type": "stream",
     "text": [
      "31/01/2004\n",
      "Tenemos una tabla tipo antigua\n",
      "No Tenemos Una tabla Reciente\n",
      "la tabla no cumple con tener más de 5 columnas.\n",
      "GO 1 before\n",
      "30/01/2004\n",
      "Tenemos una tabla tipo antigua\n",
      "No Tenemos Una tabla Reciente\n",
      "    0                         1           2   \\\n",
      "2  NaN                 COMERCIAL   COMERCIAL   \n",
      "3  NaN  Avances en Cta.Corriente  Sobregiros   \n",
      "\n",
      "                                  3                                 4   \\\n",
      "2                          COMERCIAL                         COMERCIAL   \n",
      "3  Dsctos. y préstamos hasta 30 días  Dsctos. y préstamos 31 - 90 días   \n",
      "\n",
      "                                  5                                   6   \\\n",
      "2                          COMERCIAL                           COMERCIAL   \n",
      "3  Dsctos. y préstamos 91 - 180 días  Dsctos. y préstamos 181 - 360 días   \n",
      "\n",
      "                                 7                 8   \\\n",
      "2                         COMERCIAL  A MICROEMPRESAS2   \n",
      "3  Dsctos. y préstamos más 360 días        Sobregiros   \n",
      "\n",
      "                                   9   ...                   11  \\\n",
      "2                    A MICROEMPRESAS2  ...              CONSUMO   \n",
      "3  Dsctos. y préstamos hasta 360 días  ...  Tarjeta de crédito3   \n",
      "\n",
      "                    12                   13                        14  \\\n",
      "2              CONSUMO              CONSUMO                   CONSUMO   \n",
      "3  Tarjeta de crédito3  Tarjeta de crédito3  Préstamos hasta 360 días   \n",
      "\n",
      "                         15                        16                      17  \\\n",
      "2                   CONSUMO                   CONSUMO                 CONSUMO   \n",
      "3  Préstamos hasta 360 días  Préstamos hasta 360 días  Préstamos más 360 días   \n",
      "\n",
      "                       18                      19           20  \n",
      "2                 CONSUMO                 CONSUMO  HIPOTECARIO  \n",
      "3  Préstamos más 360 días  Préstamos más 360 días  HIPOTECARIO  \n",
      "\n",
      "[2 rows x 21 columns]\n",
      "29/02/2004\n",
      "Tenemos una tabla tipo antigua\n",
      "No Tenemos Una tabla Reciente\n",
      "la tabla no cumple con tener más de 5 columnas.\n",
      "GO 1 before\n",
      "28/02/2004\n",
      "Tenemos una tabla tipo antigua\n",
      "No Tenemos Una tabla Reciente\n",
      "la tabla no cumple con tener más de 5 columnas.\n",
      "GO 2 before\n",
      "27/02/2004\n",
      "Tenemos una tabla tipo antigua\n",
      "No Tenemos Una tabla Reciente\n",
      "    0                         1           2   \\\n",
      "2  NaN                 COMERCIAL   COMERCIAL   \n",
      "3  NaN  Avances en Cta.Corriente  Sobregiros   \n",
      "\n",
      "                                  3                                 4   \\\n",
      "2                          COMERCIAL                         COMERCIAL   \n",
      "3  Dsctos. y préstamos hasta 30 días  Dsctos. y préstamos 31 - 90 días   \n",
      "\n",
      "                                  5                                   6   \\\n",
      "2                          COMERCIAL                           COMERCIAL   \n",
      "3  Dsctos. y préstamos 91 - 180 días  Dsctos. y préstamos 181 - 360 días   \n",
      "\n",
      "                                 7                 8   \\\n",
      "2                         COMERCIAL  A MICROEMPRESAS2   \n",
      "3  Dsctos. y préstamos más 360 días        Sobregiros   \n",
      "\n",
      "                                   9   ...                   11  \\\n",
      "2                    A MICROEMPRESAS2  ...              CONSUMO   \n",
      "3  Dsctos. y préstamos hasta 360 días  ...  Tarjeta de crédito3   \n",
      "\n",
      "                    12                   13                        14  \\\n",
      "2              CONSUMO              CONSUMO                   CONSUMO   \n",
      "3  Tarjeta de crédito3  Tarjeta de crédito3  Préstamos hasta 360 días   \n",
      "\n",
      "                         15                        16                      17  \\\n",
      "2                   CONSUMO                   CONSUMO                 CONSUMO   \n",
      "3  Préstamos hasta 360 días  Préstamos hasta 360 días  Préstamos más 360 días   \n",
      "\n",
      "                       18                      19           20  \n",
      "2                 CONSUMO                 CONSUMO  HIPOTECARIO  \n",
      "3  Préstamos más 360 días  Préstamos más 360 días  HIPOTECARIO  \n",
      "\n",
      "[2 rows x 21 columns]\n",
      "31/03/2004\n"
     ]
    },
    {
     "ename": "KeyboardInterrupt",
     "evalue": "",
     "output_type": "error",
     "traceback": [
      "\u001b[1;31m---------------------------------------------------------------------------\u001b[0m",
      "\u001b[1;31mKeyboardInterrupt\u001b[0m                         Traceback (most recent call last)",
      "\u001b[1;32m<ipython-input-80-4204baf6014d>\u001b[0m in \u001b[0;36m<module>\u001b[1;34m\u001b[0m\n\u001b[0;32m     11\u001b[0m         \u001b[0mdriver\u001b[0m\u001b[1;33m.\u001b[0m\u001b[0mexecute_script\u001b[0m\u001b[1;33m(\u001b[0m \u001b[1;34mf\"document.getElementById('ctl00_cphContent_rdpDate_dateInput').value = '{last_day_str}'\"\u001b[0m\u001b[1;33m)\u001b[0m\u001b[1;33m\u001b[0m\u001b[1;33m\u001b[0m\u001b[0m\n\u001b[0;32m     12\u001b[0m         \u001b[0mdriver\u001b[0m\u001b[1;33m.\u001b[0m\u001b[0mfind_element_by_id\u001b[0m\u001b[1;33m(\u001b[0m\u001b[1;34m\"ctl00_cphContent_rdpDate_dateInput\"\u001b[0m\u001b[1;33m)\u001b[0m\u001b[1;33m.\u001b[0m\u001b[0msend_keys\u001b[0m\u001b[1;33m(\u001b[0m\u001b[0mKeys\u001b[0m\u001b[1;33m.\u001b[0m\u001b[0mRETURN\u001b[0m\u001b[1;33m)\u001b[0m\u001b[1;33m\u001b[0m\u001b[1;33m\u001b[0m\u001b[0m\n\u001b[1;32m---> 13\u001b[1;33m         \u001b[0mtime\u001b[0m\u001b[1;33m.\u001b[0m\u001b[0msleep\u001b[0m\u001b[1;33m(\u001b[0m \u001b[1;36m5\u001b[0m \u001b[1;33m)\u001b[0m\u001b[1;33m\u001b[0m\u001b[1;33m\u001b[0m\u001b[0m\n\u001b[0m\u001b[0;32m     14\u001b[0m \u001b[1;33m\u001b[0m\u001b[0m\n\u001b[0;32m     15\u001b[0m         \u001b[1;31m# busquems la tabla\u001b[0m\u001b[1;33m\u001b[0m\u001b[1;33m\u001b[0m\u001b[1;33m\u001b[0m\u001b[0m\n",
      "\u001b[1;31mKeyboardInterrupt\u001b[0m: "
     ]
    }
   ],
   "source": [
    "for last_day in dates_list:\n",
    "    days_before = 0\n",
    "    \n",
    "    while days_before < 8:\n",
    "        driver.switch_to.default_content()\n",
    "        # le damos el fomato que queremos\n",
    "        last_day_str = last_day.strftime(\"%d/%m/%Y\")\n",
    "        print(last_day_str)\n",
    "\n",
    "        # repetimos el proceso de obtener tablas\n",
    "        driver.execute_script( f\"document.getElementById('ctl00_cphContent_rdpDate_dateInput').value = '{last_day_str}'\")\n",
    "        driver.find_element_by_id(\"ctl00_cphContent_rdpDate_dateInput\").send_keys(Keys.RETURN)\n",
    "        time.sleep( 5 )\n",
    "\n",
    "        # busquems la tabla\n",
    "        # prueba si es una tabla tipo antigua\n",
    "        try:\n",
    "            # Cambiamos de frame\n",
    "            driver.switch_to.frame(driver.find_element_by_id(\"ctl00_cphContent_pnContenidoAnteriorMnASP\"))\n",
    "            driver.find_element_by_xpath(\"/html/body/form/table\")\n",
    "            # Seleccionamos la tabla\n",
    "            tabla = driver.find_element_by_xpath(\"/html/body/form/table\")\n",
    "\n",
    "            tabla_html = tabla.get_attribute('outerHTML')\n",
    "            # Volvemos al frame principal\n",
    "            driver.switch_to.default_content()\n",
    "            tablas = pd.read_html(tabla_html)\n",
    "            tabla_antigua = tablas[2].iloc[2:, :]\n",
    "            tabla_antigua\n",
    "            # Dame el numero de columnas\n",
    "            print( \"Tenemos una tabla tipo antigua\")\n",
    "        except:\n",
    "            print( \"No Tenemos una tabla tipo antigua\")\n",
    "            tabla_antigua = \"\"\n",
    "\n",
    "\n",
    "        try:\n",
    "\n",
    "            # Identificar directamente la tabla\n",
    "            # Seleccionamos la tabla\n",
    "            tabla = driver.find_element_by_id(\"ctl00_cphContent_rpgActualMn_OT\")\n",
    "            tabla_html = tabla.get_attribute('outerHTML')\n",
    "            tablas = pd.read_html(tabla_html)\n",
    "            tablas\n",
    "            # generate table objects\n",
    "            table0, table1 = tablas[0], tablas[1]\n",
    "            table_clean = table1.copy()\n",
    "\n",
    "            # Number of rows of second table\n",
    "            tb1_rows = table1.shape[0]\n",
    "            drop_rows = np.arange( 1, tb1_rows + 2 )\n",
    "\n",
    "            # Clean first table\n",
    "            table0 = table0.drop( drop_rows, axis = 0 )\n",
    "\n",
    "            # Assign values to new table\n",
    "            col_name = table0.iloc[0, 0]\n",
    "            col_values = table0.iloc[1:, 0].tolist()\n",
    "            table_clean.insert( loc = 0, column= col_name, value = col_values)\n",
    "            tabla_reciente = table_clean.copy()\n",
    "            tabla_reciente\n",
    "            print(\"Tenemos Una tabla Reciente\")\n",
    "        except:\n",
    "            print(\"No Tenemos Una tabla Reciente\")\n",
    "            tabla_reciente = \"\"\n",
    "\n",
    "\n",
    "        if ( ( isinstance( tabla_reciente, str ) == False ) and ( tabla_reciente.shape[1] > 5 ) ):\n",
    "            days_before = 8 \n",
    "            print( tabla_reciente.columns.tolist() )\n",
    "\n",
    "        elif ( ( isinstance( tabla_antigua, str ) == False ) and ( tabla_antigua.shape[1] > 5 ) ):\n",
    "            days_before = 8 \n",
    "            print( tabla_antigua.iloc[ :2, : ] )\n",
    "\n",
    "        else:\n",
    "            print( \"la tabla no cumple con tener más de 5 columnas.\")\n",
    "            days_before = days_before + 1\n",
    "            last_day = last_day - timedelta(days= 1)\n",
    "            print( f\"GO {days_before} before\")"
   ]
  }
 ],
 "metadata": {
  "hide_input": false,
  "kernelspec": {
   "display_name": "Python 3",
   "language": "python",
   "name": "python3"
  },
  "language_info": {
   "codemirror_mode": {
    "name": "ipython",
    "version": 3
   },
   "file_extension": ".py",
   "mimetype": "text/x-python",
   "name": "python",
   "nbconvert_exporter": "python",
   "pygments_lexer": "ipython3",
   "version": "3.8.6"
  },
  "toc": {
   "base_numbering": 1,
   "nav_menu": {},
   "number_sections": true,
   "sideBar": true,
   "skip_h1_title": false,
   "title_cell": "Table of Contents",
   "title_sidebar": "Contents",
   "toc_cell": false,
   "toc_position": {},
   "toc_section_display": true,
   "toc_window_display": false
  }
 },
 "nbformat": 4,
 "nbformat_minor": 4
}
