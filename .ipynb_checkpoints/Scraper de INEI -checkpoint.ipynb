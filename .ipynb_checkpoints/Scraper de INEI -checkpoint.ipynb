{
 "cells": [
  {
   "cell_type": "code",
   "execution_count": 1,
   "metadata": {},
   "outputs": [],
   "source": [
    "# Exporto las librerias\n",
    "from selenium import webdriver\n",
    "from selenium.webdriver.support.ui import WebDriverWait\n",
    "from selenium.webdriver.support import expected_conditions as EC\n",
    "from selenium.webdriver.common.by import By\n",
    "import time\n",
    "from time import sleep\n",
    "import numpy as np\n",
    "import pandas as pd\n",
    "from pandas import Series,DataFrame\n",
    "import re\n",
    "from selenium.webdriver.common.alert import Alert\n",
    "from selenium.common.exceptions import NoSuchElementException\n",
    "from selenium.webdriver import ActionChains\n",
    "from selenium.webdriver.common.keys import Keys\n",
    "import os\n",
    "from bs4 import BeautifulSoup\n",
    "import requests\n",
    "import urllib.request\n"
   ]
  },
  {
   "cell_type": "code",
   "execution_count": 8,
   "metadata": {},
   "outputs": [],
   "source": [
    "#Library\n",
    "# ---\n",
    "# For scrape\n",
    "from selenium import webdriver\n",
    "from webdriver_manager.chrome import ChromeDriverManager\n",
    "\n",
    "# Options driver\n",
    "from selenium.webdriver.chrome.options import Options\n",
    "\n",
    "# For dataframes\n",
    "import pandas as pd\n",
    "from pandas import json_normalize\n",
    "\n",
    "# For simulate human behavior.\n",
    "import time\n",
    "from time import sleep\n",
    "import random\n",
    "\n",
    "# Clear data\n",
    "import unidecode\n",
    "#unaccented_string = unidecode.unidecode(accented_string)\n",
    "\n",
    "# Manipulate Json files\n",
    "import json\n",
    "import re\n"
   ]
  },
  {
   "cell_type": "code",
   "execution_count": 2,
   "metadata": {},
   "outputs": [],
   "source": [
    "number_mod = [\"100\",\"200\",\"300\"]"
   ]
  },
  {
   "cell_type": "code",
   "execution_count": 3,
   "metadata": {},
   "outputs": [],
   "source": [
    "years = [\"2015\",\"2016\"]"
   ]
  },
  {
   "cell_type": "code",
   "execution_count": 7,
   "metadata": {},
   "outputs": [
    {
     "ename": "NameError",
     "evalue": "name 'Options' is not defined",
     "output_type": "error",
     "traceback": [
      "\u001b[1;31m---------------------------------------------------------------------------\u001b[0m",
      "\u001b[1;31mNameError\u001b[0m                                 Traceback (most recent call last)",
      "\u001b[1;32m<ipython-input-7-2f8b5f47a0c3>\u001b[0m in \u001b[0;36m<module>\u001b[1;34m\u001b[0m\n\u001b[0;32m      1\u001b[0m \u001b[1;31m# Setting\u001b[0m\u001b[1;33m\u001b[0m\u001b[1;33m\u001b[0m\u001b[1;33m\u001b[0m\u001b[0m\n\u001b[1;32m----> 2\u001b[1;33m \u001b[0moptions\u001b[0m\u001b[1;33m=\u001b[0m \u001b[0mOptions\u001b[0m\u001b[1;33m(\u001b[0m\u001b[1;33m)\u001b[0m\u001b[1;33m\u001b[0m\u001b[1;33m\u001b[0m\u001b[0m\n\u001b[0m\u001b[0;32m      3\u001b[0m \u001b[0moptions\u001b[0m\u001b[1;33m.\u001b[0m\u001b[0madd_argument\u001b[0m\u001b[1;33m(\u001b[0m\u001b[1;34m\"--start-maximized\"\u001b[0m\u001b[1;33m)\u001b[0m\u001b[1;33m\u001b[0m\u001b[1;33m\u001b[0m\u001b[0m\n\u001b[0;32m      4\u001b[0m \u001b[1;33m\u001b[0m\u001b[0m\n\u001b[0;32m      5\u001b[0m \u001b[0mdriver\u001b[0m \u001b[1;33m=\u001b[0m \u001b[0mwebdriver\u001b[0m\u001b[1;33m.\u001b[0m\u001b[0mChrome\u001b[0m\u001b[1;33m(\u001b[0m\u001b[0mChromeDriverManager\u001b[0m\u001b[1;33m(\u001b[0m\u001b[1;33m)\u001b[0m\u001b[1;33m.\u001b[0m\u001b[0minstall\u001b[0m\u001b[1;33m(\u001b[0m\u001b[1;33m)\u001b[0m\u001b[1;33m,\u001b[0m\u001b[0moptions\u001b[0m\u001b[1;33m=\u001b[0m\u001b[0moptions\u001b[0m\u001b[1;33m)\u001b[0m\u001b[1;33m\u001b[0m\u001b[1;33m\u001b[0m\u001b[0m\n",
      "\u001b[1;31mNameError\u001b[0m: name 'Options' is not defined"
     ]
    }
   ],
   "source": [
    "# Setting\n",
    "options= Options()\n",
    "options.add_argument(\"--start-maximized\")\n",
    "\n",
    "driver = webdriver.Chrome(ChromeDriverManager().install(),options=options)"
   ]
  },
  {
   "cell_type": "code",
   "execution_count": null,
   "metadata": {},
   "outputs": [],
   "source": [
    "# driver_path = r\"../chromedriver_win32/chromedriver.exe\"\n",
    "\n",
    "# driver = webdriver.Chrome(driver_path, chrome_options=options)\n",
    "# # Inicializamos el navegador\n",
    "driver.get('http://iinei.inei.gob.pe/microdatos/')\n",
    "\n"
   ]
  },
  {
   "cell_type": "code",
   "execution_count": null,
   "metadata": {},
   "outputs": [],
   "source": [
    "# HERRAMIENTA PARA HACER DOBLE CLICK \n",
    "action = ActionChains(driver)"
   ]
  },
  {
   "cell_type": "code",
   "execution_count": null,
   "metadata": {},
   "outputs": [],
   "source": [
    "# CLICK PARA ENTRAR A SELECCIONAR ENCUESTA DE PROGRAMAS PRESUPUESTALES - ENAPRES \n",
    "\n",
    "click_cerrar_anuncio = driver.find_element_by_xpath('/html/body/div[3]/div[1]/a/span').click()\n"
   ]
  },
  {
   "cell_type": "code",
   "execution_count": null,
   "metadata": {},
   "outputs": [],
   "source": [
    "sleep(1)\n",
    "click_consulta_encuesta = driver.find_element_by_xpath('/html/body/div[1]/div[2]/div/div/div[2]/ul/li[1]/a').click()\n",
    "\n",
    "sleep(1)\n",
    "click_selec_encuesta = driver.find_element_by_xpath('/html/body/div[2]/div/div/div[4]/div/form[1]/div[4]/div/span/span[1]/span/span[2]').click()\n",
    "\n",
    "sleep(1)\n",
    "enapres =driver.find_element_by_xpath('/html/body/div[2]/div/div/div[4]/div/form[1]/div[4]/div/select/option[33]').click()\n",
    "action.double_click(enapres).perform()"
   ]
  },
  {
   "cell_type": "code",
   "execution_count": null,
   "metadata": {},
   "outputs": [],
   "source": [
    "#Lista para los años \n",
    "lista=[]\n",
    "# listas para los url de las descargas \n",
    "url=[]"
   ]
  },
  {
   "cell_type": "code",
   "execution_count": null,
   "metadata": {},
   "outputs": [],
   "source": [
    "\n",
    "for year in years :\n",
    "\n",
    "    path_folders = '../A_MicroData/'\n",
    "    path = os.path.join( path_folders , year)\n",
    "\n",
    "    try:\n",
    "        os.mkdir(path)\n",
    "    except FileExistsError:\n",
    "        print( f\"The folder {year} already exists.\")\n",
    "\n",
    "    for j in range(7,9,1):\n",
    "\n",
    "        sleep(3)\n",
    "        año_text = driver.find_element_by_xpath(f'/html/body/div[2]/div/div/div[4]/div/form[1]/div[5]/div[3]/div[2]/div/select/option[{j}]').text\n",
    "        print(año_text)\n",
    "        año = driver.find_element_by_xpath(f'/html/body/div[2]/div/div/div[4]/div/form[1]/div[5]/div[3]/div[2]/div/select/option[{j}]').click()\n",
    "\n",
    "        years_selec.append(año_text)\n",
    "\n",
    "        sleep(3)\n",
    "        selec_año = driver.find_element_by_xpath('/html/body/div[2]/div/div/div[4]/div/form[1]/div[5]/div[3]/div[2]/div/select').click()\n",
    "        action.double_click(selec_año).perform()\n",
    "\n",
    "        i = 2\n",
    "        box = \"no hay\"\n",
    "\n",
    "\n",
    "        while box !=0 :\n",
    "\n",
    "            try:\n",
    "\n",
    "                sleep(3)\n",
    "                anual =driver.find_element_by_xpath('/html/body/div[2]/div/div/div[4]/div/form[1]/div[5]/div[3]/div[4]/div/select/option[2]').click()\n",
    "\n",
    "                sleep(3)\n",
    "                modulo = driver.find_element_by_xpath(f'//*[@id=\"divDetalle\"]/table/tbody/tr/td/table/tbody/tr[{i}]/td[7]/a').text\n",
    "                modulo_sustr=re.search(r\"(?<= ).*(?= :)\",modulo)[0]\n",
    "                lista.append(modulo_sustr)\n",
    "                print(modulo_sustr)\n",
    "\n",
    "                items = driver.find_element_by_xpath(f'//*[@id=\"divDetalle\"]/table/tbody/tr/td/table/tbody/tr[{i}]/td[9]/a')\n",
    "                texto= items.get_attribute(\"href\")\n",
    "                url.append(texto)\n",
    "\n",
    "                i=i+1\n",
    "\n",
    "            except :\n",
    "\n",
    "                box = 0\n",
    "\n",
    "        for m in number_mod :\n",
    "\n",
    "            index_url =lista.index(m)\n",
    "            selecc_link = url[index_url]\n",
    "            urllib.request.urlretrieve(selecc_link, fr\"../A_MicroData/{year}/{m}_chaphter.zip\")\n",
    "\n",
    "\n",
    "  "
   ]
  }
 ],
 "metadata": {
  "hide_input": false,
  "kernelspec": {
   "display_name": "Python 3",
   "language": "python",
   "name": "python3"
  },
  "language_info": {
   "codemirror_mode": {
    "name": "ipython",
    "version": 3
   },
   "file_extension": ".py",
   "mimetype": "text/x-python",
   "name": "python",
   "nbconvert_exporter": "python",
   "pygments_lexer": "ipython3",
   "version": "3.8.6"
  },
  "toc": {
   "base_numbering": 1,
   "nav_menu": {},
   "number_sections": true,
   "sideBar": true,
   "skip_h1_title": false,
   "title_cell": "Table of Contents",
   "title_sidebar": "Contents",
   "toc_cell": false,
   "toc_position": {},
   "toc_section_display": true,
   "toc_window_display": false
  }
 },
 "nbformat": 4,
 "nbformat_minor": 4
}
