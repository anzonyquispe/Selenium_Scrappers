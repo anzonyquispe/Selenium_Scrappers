{
 "cells": [
  {
   "cell_type": "code",
   "execution_count": 44,
   "metadata": {},
   "outputs": [
    {
     "data": {
      "text/html": [
       "<style>.container { width:80% !important; }</style>"
      ],
      "text/plain": [
       "<IPython.core.display.HTML object>"
      ]
     },
     "metadata": {},
     "output_type": "display_data"
    }
   ],
   "source": [
    "# Wide cells\n",
    "# Make cells wider\n",
    "from IPython.core.display import display, HTML\n",
    "display(HTML(\"<style>.container { width:80% !important; }</style>\"))"
   ]
  },
  {
   "cell_type": "code",
   "execution_count": 45,
   "metadata": {},
   "outputs": [],
   "source": [
    "#Library\n",
    "# ---\n",
    "# For scrape\n",
    "from selenium import webdriver\n",
    "from webdriver_manager.chrome import ChromeDriverManager\n",
    "\n",
    "# Options driver\n",
    "from selenium.webdriver.chrome.options import Options\n",
    "\n",
    "# For dataframes\n",
    "import pandas as pd\n",
    "from pandas import json_normalize\n",
    "\n",
    "# For simulate human behavior.\n",
    "import time\n",
    "from time import sleep\n",
    "import random\n",
    "\n",
    "# Clear data\n",
    "import unidecode\n",
    "# unaccented_string = unidecode.unidecode(accented_string)\n",
    "\n",
    "# Manipulate Json files\n",
    "import json\n"
   ]
  },
  {
   "cell_type": "code",
   "execution_count": 46,
   "metadata": {
    "scrolled": false
   },
   "outputs": [
    {
     "name": "stderr",
     "output_type": "stream",
     "text": [
      "\n",
      "\n",
      "====== WebDriver manager ======\n",
      "Current google-chrome version is 103.0.5060\n",
      "Get LATEST chromedriver version for 103.0.5060 google-chrome\n",
      "Driver [C:\\Users\\Anzony\\.wdm\\drivers\\chromedriver\\win32\\103.0.5060.53\\chromedriver.exe] found in cache\n"
     ]
    }
   ],
   "source": [
    "# Setting\n",
    "options= Options()\n",
    "options.add_argument(\"--start-maximized\")\n",
    "\n",
    "driver = webdriver.Chrome(ChromeDriverManager().install(),options=options)"
   ]
  },
  {
   "cell_type": "code",
   "execution_count": 47,
   "metadata": {
    "scrolled": true
   },
   "outputs": [],
   "source": [
    "# we open our page\n",
    "driver.get(\"https://www.bumeran.com.pe/\")"
   ]
  },
  {
   "cell_type": "code",
   "execution_count": 48,
   "metadata": {},
   "outputs": [],
   "source": [
    "# Puestos_ejecutivo\n",
    "\n",
    "# //*[@id=\"root\"]/div/div[1]/div/div/div/div/div/div/ul/li[5]/div/a     a esto   //div[@cless=\"sc-eNQAEJ fAbPPh\"\n",
    "\n",
    "\n",
    "driver.find_element_by_id('buscarTrabajo').click()"
   ]
  },
  {
   "cell_type": "code",
   "execution_count": 49,
   "metadata": {},
   "outputs": [],
   "source": [
    "# Get all the \n",
    "last_page = driver.find_element_by_id('listado-avisos')"
   ]
  },
  {
   "cell_type": "code",
   "execution_count": 50,
   "metadata": {},
   "outputs": [],
   "source": [
    "# Get href obj\n",
    "href_obj = last_page.find_elements_by_xpath(\"//a[@href]\")"
   ]
  },
  {
   "cell_type": "code",
   "execution_count": 51,
   "metadata": {},
   "outputs": [],
   "source": [
    "# Get all links\n",
    "links_page = []\n",
    "for a_obj in href_obj:\n",
    "    link = a_obj.get_attribute('href')\n",
    "    links_page.append( link )"
   ]
  },
  {
   "cell_type": "code",
   "execution_count": 40,
   "metadata": {},
   "outputs": [
    {
     "data": {
      "text/plain": [
       "103"
      ]
     },
     "execution_count": 40,
     "metadata": {},
     "output_type": "execute_result"
    }
   ],
   "source": [
    "len( links_page )"
   ]
  },
  {
   "cell_type": "code",
   "execution_count": null,
   "metadata": {},
   "outputs": [],
   "source": [
    "# Operating in a new tab and getting information\n",
    "#open tab\n",
    "driver.send_keys(Keys.CONTROL + 't') \n",
    "# You can use (Keys.COMMAND + 't') on other OSs\n",
    "\n",
    "# Load a page \n",
    "driver.get( links_page[0] )\n",
    "# Make the tests...\n",
    "\n",
    "# close the tab\n",
    "# (Keys.COMMAND + 'w') on other OSs.\n",
    "# driver.find_element_by_tag_name('body').send_keys(Keys.CONTROL + 'w') "
   ]
  },
  {
   "cell_type": "code",
   "execution_count": 134,
   "metadata": {},
   "outputs": [
    {
     "data": {
      "text/plain": [
       "['https://www.bumeran.com.pe/empleos/ejecutivo-comercial-planilla-1er-dia-presencial-san-isidro.-1115279316.html',\n",
       " 'https://www.bumeran.com.pe/empleos/tecnicos-de-produccion-con-experiencia-en-maquinas-cnc-serigrafia-o-vitrificado-cercado-de-lima-grupo-progestion-1115278905.html',\n",
       " 'https://www.bumeran.com.pe/empleos/ejecutivo-de-ventas-arequipa-altas-comisiones-pandero-s.a.-eafc-1115278892.html',\n",
       " 'https://www.bumeran.com.pe/empleos/02-programador-react-home-office-footloose-1115278612.html',\n",
       " 'https://www.bumeran.com.pe/empleos/desarrollador-movil-home-office-footloose-1115278590.html',\n",
       " 'https://www.bumeran.com.pe/empleos/ventas-en-oficina-sueldo-fijo-comisiones-y-bonos-semanales-ilimitados-en-san-isidro-1115278081.html',\n",
       " 'https://www.bumeran.com.pe/empleos/asesor-educativo-comercial-b2b-los-olivos-bumeran-selecta-1115276863.html',\n",
       " 'https://www.bumeran.com.pe/empleos/supervisor-de-control-de-calidad-y-topografia-1115276779.html']"
      ]
     },
     "execution_count": 134,
     "metadata": {},
     "output_type": "execute_result"
    }
   ],
   "source": [
    "links_page[10:18]"
   ]
  },
  {
   "cell_type": "code",
   "execution_count": 138,
   "metadata": {},
   "outputs": [
    {
     "name": "stdout",
     "output_type": "stream",
     "text": [
      "https://www.bumeran.com.pe/empleos/ejecutivo-comercial-planilla-1er-dia-presencial-san-isidro.-1115279316.html\n",
      "https://www.bumeran.com.pe/empleos/tecnicos-de-produccion-con-experiencia-en-maquinas-cnc-serigrafia-o-vitrificado-cercado-de-lima-grupo-progestion-1115278905.html\n",
      "https://www.bumeran.com.pe/empleos/ejecutivo-de-ventas-arequipa-altas-comisiones-pandero-s.a.-eafc-1115278892.html\n",
      "https://www.bumeran.com.pe/empleos/02-programador-react-home-office-footloose-1115278612.html\n",
      "https://www.bumeran.com.pe/empleos/desarrollador-movil-home-office-footloose-1115278590.html\n",
      "https://www.bumeran.com.pe/empleos/ventas-en-oficina-sueldo-fijo-comisiones-y-bonos-semanales-ilimitados-en-san-isidro-1115278081.html\n",
      "https://www.bumeran.com.pe/empleos/asesor-educativo-comercial-b2b-los-olivos-bumeran-selecta-1115276863.html\n",
      "https://www.bumeran.com.pe/empleos/supervisor-de-control-de-calidad-y-topografia-1115276779.html\n"
     ]
    }
   ],
   "source": [
    "# Save data\n",
    "data = {}\n",
    "data['True'] = {}\n",
    "data['Error'] = {}\n",
    "\n",
    "# Loop over links\n",
    "i = 1\n",
    "for link_job in links_page[10:18]:\n",
    "    # Execute javascript driver\n",
    "    driver.execute_script(\"window.open('');\")\n",
    "    time.sleep(2)\n",
    "\n",
    "    # Switch driver to link\n",
    "    driver.switch_to.window(driver.window_handles[1])\n",
    "\n",
    "    # Open the link\n",
    "    driver.get( link_job )\n",
    "    time.sleep(2)\n",
    "    print(link_job)\n",
    "    try:\n",
    "        # Find the head element\n",
    "        head = driver.find_element_by_id(\"header-component\")\n",
    "        # Get title\n",
    "        h1 = head.find_element_by_tag_name(\"h1\").text\n",
    "        # Get Firm\n",
    "        h3 = head.find_element_by_tag_name(\"h3\").text\n",
    "        \n",
    "\n",
    "        # Get all details\n",
    "        details = driver.find_element_by_id(\"section-detalle\")\n",
    "        # Find all the lists in details\n",
    "        lists = {}\n",
    "        all_li = details.find_elements_by_tag_name(\"li\")\n",
    "        for li in all_li:\n",
    "            text_li = li.text\n",
    "            text_icon = li.find_element_by_tag_name( 'i' ).get_attribute('name')\n",
    "            lists[ text_icon ] = text_li\n",
    "        # Get all paragraphs\n",
    "        all_p = details.find_elements_by_tag_name('p')\n",
    "        paragraphs = []\n",
    "        for p in all_p:\n",
    "            paragraphs.append( p.text )\n",
    "            \n",
    "        # Append information in dict\n",
    "        data1 = {}\n",
    "        data1['title'] = h1\n",
    "        data1['firm'] = h3\n",
    "        data1['list'] = lists\n",
    "        data1['all_p'] = paragraphs\n",
    "        data1['url'] = link_job\n",
    "        # Save in main dict\n",
    "        data[ 'True' ][f'job{i}'] = data1.copy()\n",
    "    except:\n",
    "        error1 = {f'job{i}' : link_job }\n",
    "        data['Error'] = error1.copy()\n",
    "        \n",
    "\n",
    "    # Close driver\n",
    "    driver.close()\n",
    "    # Switch to window\n",
    "    driver.switch_to.window(driver.window_handles[0])\n",
    "    \n",
    "    i = i + 1"
   ]
  },
  {
   "cell_type": "code",
   "execution_count": 141,
   "metadata": {},
   "outputs": [
    {
     "data": {
      "text/plain": [
       "dict_keys(['job1', 'job2', 'job3', 'job4', 'job5', 'job6'])"
      ]
     },
     "execution_count": 141,
     "metadata": {},
     "output_type": "execute_result"
    }
   ],
   "source": [
    "data['True'].keys()"
   ]
  },
  {
   "cell_type": "code",
   "execution_count": 106,
   "metadata": {},
   "outputs": [
    {
     "data": {
      "text/plain": [
       "{'title': 'Ejecutivo de Ventas Arequipa - Altas comisiones!!!',\n",
       " 'firm': 'PANDERO S.A. EAFC',\n",
       " 'list': {'icon-light-clock': 'Full-time',\n",
       "  'icon-light-location-pin': 'Arequipa, Arequipa, Peru',\n",
       "  'icon-light-office': 'Presencial',\n",
       "  'icon-light-money': 'No especificado',\n",
       "  'icon-light-cube': 'Comercial',\n",
       "  'icon-light-people': '10 vacantes disponibles'},\n",
       " 'all_p': ['En Pandero impulsamos #HistoriasdeExito. ¡Únete como EJECUTIVO DE VENTAS y dale la bienvenida a lo posible!',\n",
       "  'Objetivo del puesto: Hacer posible que nuestros clientes cumplan la meta del auto o casa propia, vendiendo contratos de fondos colectivos en nuestra amplia red de puntos de venta.',\n",
       "  'Requisitos:',\n",
       "  '· Experiencia mínima de 1 años en ventas (certificada)',\n",
       "  '· CAPACIDAD PARA APRENDER ONLINE, buen manejo de aplicaciones móviles',\n",
       "  '· Disponibilidad para trabajar full-time horario de centro comercial',\n",
       "  'Te ofrecemos:',\n",
       "  '· Remuneración asegurada MÁS ALTA DEL MERCADO S/1,500 durante los 2 primeros meses.',\n",
       "  '· Ingreso a planilla con todos los beneficios de ley. Eres comisionista y tú eliges cuanto ganar. ¡No existe un límite!',\n",
       "  '- Punto fijo de ventas cercano a tu domicilio.']}"
      ]
     },
     "execution_count": 106,
     "metadata": {},
     "output_type": "execute_result"
    }
   ],
   "source": [
    "data1.keys()"
   ]
  }
 ],
 "metadata": {
  "hide_input": false,
  "kernelspec": {
   "display_name": "Python 3",
   "language": "python",
   "name": "python3"
  },
  "language_info": {
   "codemirror_mode": {
    "name": "ipython",
    "version": 3
   },
   "file_extension": ".py",
   "mimetype": "text/x-python",
   "name": "python",
   "nbconvert_exporter": "python",
   "pygments_lexer": "ipython3",
   "version": "3.8.6"
  },
  "toc": {
   "base_numbering": 1,
   "nav_menu": {},
   "number_sections": true,
   "sideBar": true,
   "skip_h1_title": false,
   "title_cell": "Table of Contents",
   "title_sidebar": "Contents",
   "toc_cell": false,
   "toc_position": {},
   "toc_section_display": true,
   "toc_window_display": false
  }
 },
 "nbformat": 4,
 "nbformat_minor": 5
}
