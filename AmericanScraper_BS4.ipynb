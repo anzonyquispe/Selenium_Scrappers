{
 "cells": [
  {
   "cell_type": "code",
   "execution_count": 222,
   "metadata": {},
   "outputs": [
    {
     "data": {
      "text/html": [
       "<style>.container { width:100% !important; }</style>"
      ],
      "text/plain": [
       "<IPython.core.display.HTML object>"
      ]
     },
     "metadata": {},
     "output_type": "display_data"
    }
   ],
   "source": [
    "# Wide cells\n",
    "# Make cells wider\n",
    "from IPython.core.display import display, HTML\n",
    "import time\n",
    "from time import sleep\n",
    "import numpy as np\n",
    "import pandas as pd\n",
    "import re\n",
    "from bs4 import BeautifulSoup\n",
    "import requests\n",
    "display(HTML(\"<style>.container { width:100% !important; }</style>\"))"
   ]
  },
  {
   "cell_type": "code",
   "execution_count": 223,
   "metadata": {},
   "outputs": [],
   "source": [
    "url = \"https://www.aeaweb.org/journals/aer/issues\"\n",
    "page = requests.get(url)\n",
    "soup = BeautifulSoup(page.content,\"html.parser\")"
   ]
  },
  {
   "cell_type": "markdown",
   "metadata": {},
   "source": [
    "#### Find All Issues"
   ]
  },
  {
   "cell_type": "code",
   "execution_count": null,
   "metadata": {},
   "outputs": [],
   "source": [
    "# Find the big box that has all the information you want\n",
    "section_box = soup.find_all(\"section\", class_=\"journal-preview-group\")\n",
    "section_box[0]"
   ]
  },
  {
   "cell_type": "code",
   "execution_count": 228,
   "metadata": {},
   "outputs": [
    {
     "data": {
      "text/plain": [
       "24"
      ]
     },
     "execution_count": 228,
     "metadata": {},
     "output_type": "execute_result"
    }
   ],
   "source": [
    "# Get all the small box - articles\n",
    "all_box_issues = section_box[0].findChildren( \"article\")\n",
    "len(all_box_issues)"
   ]
  },
  {
   "cell_type": "markdown",
   "metadata": {},
   "source": [
    "From a box of issue we will get all links"
   ]
  },
  {
   "cell_type": "code",
   "execution_count": 229,
   "metadata": {},
   "outputs": [
    {
     "name": "stdout",
     "output_type": "stream",
     "text": [
      "[<a href=\"/issues/696\">October 2022 (Vol. 112, No.10 )</a>, <a href=\"/issues/692\">September 2022 (Vol. 112, No.9 )</a>, <a href=\"/issues/689\">August 2022 (Vol. 112, No.8 )</a>, <a href=\"/issues/685\">July 2022 (Vol. 112, No.7 )</a>, <a href=\"/issues/680\">June 2022 (Vol. 112, No.6 )</a>, <a href=\"/issues/676\">May 2022 (Vol. 112, No.5 )</a>, <a href=\"/issues/673\">April 2022 (Vol. 112, No.4 )</a>, <a href=\"/issues/670\">March 2022 (Vol. 112, No.3 )</a>, <a href=\"/issues/664\">February 2022 (Vol. 112, No.2 )</a>, <a href=\"/issues/661\">January 2022 (Vol. 112, No.1 )</a>]\n"
     ]
    },
    {
     "data": {
      "text/plain": [
       "'https://www.aeaweb.org/issues/689'"
      ]
     },
     "execution_count": 229,
     "metadata": {},
     "output_type": "execute_result"
    }
   ],
   "source": [
    "# From the articles section get all links\n",
    "article_0_a = all_box_issues[0].findChildren( 'a' )\n",
    "print(article_0_a)\n",
    "issue_url = \"https://www.aeaweb.org\" +  article_0_a[2]['href']\n",
    "issue_url"
   ]
  },
  {
   "cell_type": "code",
   "execution_count": 231,
   "metadata": {},
   "outputs": [
    {
     "data": {
      "text/plain": [
       "'Volume 112'"
      ]
     },
     "execution_count": 231,
     "metadata": {},
     "output_type": "execute_result"
    }
   ],
   "source": [
    "# Get Volume\n",
    "vol = all_box_issues[0].findChildren( 'span' )[0].get_text()\n",
    "vol"
   ]
  },
  {
   "cell_type": "markdown",
   "metadata": {},
   "source": [
    "Get all links"
   ]
  },
  {
   "cell_type": "code",
   "execution_count": 232,
   "metadata": {},
   "outputs": [],
   "source": [
    "link_issues = []\n",
    "for issue in all_box_issues:\n",
    "    \n",
    "    all_links_issue = issue.findChildren( 'a')\n",
    "    \n",
    "    for link in all_links_issue:\n",
    "        issue_url = \"https://www.aeaweb.org\" +  link['href']\n",
    "        link_issues.append( issue_url )"
   ]
  },
  {
   "cell_type": "markdown",
   "metadata": {},
   "source": [
    "#### Inspecting One Link of Issue"
   ]
  },
  {
   "cell_type": "code",
   "execution_count": 234,
   "metadata": {},
   "outputs": [
    {
     "name": "stdout",
     "output_type": "stream",
     "text": [
      "<section class=\"journal-article-group\">\n",
      "<div class=\"filters\">\n",
      "<h3 class=\"title\">Find articles in this issue</h3>\n",
      "<form action=\"/issues/160\" class=\"article-search\" id=\"w0\" method=\"get\">\n",
      "<div class=\"checkboxes\">\n",
      "<div class=\"input\">\n",
      "<label>\n",
      "<input checked=\"\" class=\"checkbox\" name=\"ArticleSearch[within][articletitle]\" type=\"checkbox\" value=\"1\">\n",
      "            Title\n",
      "        </input></label>\n",
      "</div>\n",
      "<div class=\"input\">\n",
      "<label>\n",
      "<input checked=\"\" class=\"checkbox\" name=\"ArticleSearch[within][articleabstract]\" type=\"checkbox\" value=\"1\">\n",
      "            Abstract\n",
      "        </input></label>\n",
      "</div>\n",
      "<div class=\"input\">\n",
      "<label>\n",
      "<input checked=\"\" class=\"checkbox\" name=\"ArticleSearch[within][authorlast]\" type=\"checkbox\" value=\"1\">\n",
      "            Author\n",
      "        </input></label>\n",
      "</div>\n",
      "</div>\n",
      "<div class=\"jel-classifications\">\n",
      "<div class=\"select input\">\n",
      "<select class=\"jel-selector\" data-level=\"1\" id=\"jel-selector-1\" name=\"JelClass[value]\">\n",
      "<option selected=\"\" value=\"0\">All Classifications</option>\n",
      "<option value=\"A\">A: General Economics and Teaching</option>\n",
      "<option value=\"B\">B: History of Economic Thought, Methodology, and Heterodox Approaches</option>\n",
      "<option value=\"C\">C: Mathematical and Quantitative Methods</option>\n",
      "<option value=\"D\">D: Microeconomics</option>\n",
      "<option value=\"E\">E: Macroeconomics and Monetary Economics</option>\n",
      "<option value=\"F\">F: International Economics</option>\n",
      "<option value=\"G\">G: Financial Economics</option>\n",
      "<option value=\"H\">H: Public Economics</option>\n",
      "<option value=\"I\">I: Health, Education, and Welfare</option>\n",
      "<option value=\"J\">J: Labor and Demographic Economics</option>\n",
      "<option value=\"K\">K: Law and Economics</option>\n",
      "<option value=\"L\">L: Industrial Organization</option>\n",
      "<option value=\"M\">M: Business Administration and Business Economics &amp;bull; Marketing &amp;bull; Accounting &amp;bull; Personnel Economics</option>\n",
      "<option value=\"N\">N: Economic History</option>\n",
      "<option value=\"O\">O: Economic Development, Innovation, Technological Change, and Growth</option>\n",
      "<option value=\"P\">P: Political Economy and Comparative Economic Systems</option>\n",
      "<option value=\"Q\">Q: Agricultural and Natural Resource Economics &amp;bull; Environmental and Ecological Economics</option>\n",
      "<option value=\"R\">R: Urban, Rural, Regional, Real Estate, and Transportation Economics</option>\n",
      "<option value=\"Y\">Y: Miscellaneous Categories</option>\n",
      "<option value=\"Z\">Z: Other Special Topics</option>\n",
      "</select> </div>\n",
      "</div>\n",
      "<div class=\"search-wrapper\">\n",
      "<span class=\"field-articlesearch-q\">\n",
      "<input class=\"form-control\" id=\"articlesearch-q\" name=\"ArticleSearch[q]\" placeholder=\"Search\" type=\"search\"/>\n",
      "</span>\n",
      "<input class=\"icon-search-0\" type=\"submit\" value=\"Search\">\n",
      "</input></div>\n",
      "</form>\n",
      "</div>\n",
      "<article class=\"journal-article art_5185\" id=\"10.1257/aer.89.1.i\" style=\"margin-top:0px; border:none; padding-top:0px;\">\n",
      "<h3 class=\"title\">\n",
      "<a href=\"/articles?id=10.1257/aer.89.1.i\">Front Matter</a>\n",
      "<div style=\"height:5px;\">\n",
      "</div>\n",
      "<span class=\"page-range\" style=\"font-size:12px\">(pp. i-vi)</span>\n",
      "</h3>\n",
      "</article>\n",
      "<article class=\"journal-article art_5202\" id=\"10.1257/aer.89.1.1\">\n",
      "<h3 class=\"title\">\n",
      "<a href=\"/articles?id=10.1257/aer.89.1.1\">Catching Up with the Economy</a>\n",
      "<ul class=\"attribution\">\n",
      "<li class=\"author\"> <span class=\"vcard\" id=\"hcard-\" robert-fogel'=\"\"><span class=\"fn n\"><span class=\"given-name\">Robert</span> <span class=\"additional-name\">W.</span> <span class=\"family-name\">Fogel</span></span></span> </li>\n",
      "</ul>\n",
      "<span class=\"page-range\" style=\"font-size:12px\">(pp. 1-21)</span>\n",
      "</h3>\n",
      "</article>\n",
      "<article class=\"journal-article art_5201\" id=\"10.1257/aer.89.1.22\">\n",
      "<h3 class=\"title\">\n",
      "<a href=\"/articles?id=10.1257/aer.89.1.22\">The Voracity Effect</a>\n",
      "<ul class=\"attribution\">\n",
      "<li class=\"author\"> <span aaron-tornell'=\"\" class=\"vcard\" id=\"hcard-\"><span class=\"fn n\"><span class=\"given-name\">Aaron</span> <span class=\"family-name\">Tornell</span></span></span> and  <span class=\"vcard\" id=\"hcard-\" philip-lane'=\"\"><span class=\"fn n\"><span class=\"given-name\">Philip</span> <span class=\"additional-name\">R.</span> <span class=\"family-name\">Lane</span></span></span> </li>\n",
      "</ul>\n",
      "<span class=\"page-range\" style=\"font-size:12px\">(pp. 22-46)</span>\n",
      "</h3>\n",
      "</article>\n",
      "<article class=\"journal-article art_5200\" id=\"10.1257/aer.89.1.47\">\n",
      "<h3 class=\"title\">\n",
      "<a href=\"/articles?id=10.1257/aer.89.1.47\">Endogenous Technological Change and Wage Inequality</a>\n",
      "<ul class=\"attribution\">\n",
      "<li class=\"author\"> <span class=\"vcard\" huw-lloyd-ellis'=\"\" id=\"hcard-\"><span class=\"fn n\"><span class=\"given-name\">Huw</span> <span class=\"family-name\">Lloyd-Ellis</span></span></span> </li>\n",
      "</ul>\n",
      "<span class=\"page-range\" style=\"font-size:12px\">(pp. 47-77)</span>\n",
      "</h3>\n",
      "</article>\n",
      "<article class=\"journal-article art_5199\" id=\"10.1257/aer.89.1.78\">\n",
      "<h3 class=\"title\">\n",
      "<a href=\"/articles?id=10.1257/aer.89.1.78\">Technological Revolutions</a>\n",
      "<ul class=\"attribution\">\n",
      "<li class=\"author\"> <span class=\"vcard\" francesco-caselli'=\"\" id=\"hcard-\"><span class=\"fn n\"><span class=\"given-name\">Francesco</span> <span class=\"family-name\">Caselli</span></span></span> </li>\n",
      "</ul>\n",
      "<span class=\"page-range\" style=\"font-size:12px\">(pp. 78-102)</span>\n",
      "</h3>\n",
      "</article>\n",
      "<article class=\"journal-article art_5198\" id=\"10.1257/aer.89.1.103\">\n",
      "<h3 class=\"title\">\n",
      "<a href=\"/articles?id=10.1257/aer.89.1.103\">Doing It Now or Later</a>\n",
      "<ul class=\"attribution\">\n",
      "<li class=\"author\"> <span class=\"vcard\" id=\"hcard-\" ted-o'donoghue'=\"\"><span class=\"fn n\"><span class=\"given-name\">Ted</span> <span class=\"family-name\">O'Donoghue</span></span></span> and  <span class=\"vcard\" id=\"hcard-\" matthew-rabin'=\"\"><span class=\"fn n\"><span class=\"given-name\">Matthew</span> <span class=\"family-name\">Rabin</span></span></span> </li>\n",
      "</ul>\n",
      "<span class=\"page-range\" style=\"font-size:12px\">(pp. 103-124)</span>\n",
      "</h3>\n",
      "</article>\n",
      "<article class=\"journal-article art_5197\" id=\"10.1257/aer.89.1.125\">\n",
      "<h3 class=\"title\">\n",
      "<a href=\"/articles?id=10.1257/aer.89.1.125\">Cooperative Investments and the Value of Contracting</a>\n",
      "<ul class=\"attribution\">\n",
      "<li class=\"author\"> <span class=\"vcard\" id=\"hcard-\" yeon-koo-che'=\"\"><span class=\"fn n\"><span class=\"given-name\">Yeon-Koo</span> <span class=\"family-name\">Che</span></span></span> and  <span class=\"vcard\" donald-hausch'=\"\" id=\"hcard-\"><span class=\"fn n\"><span class=\"given-name\">Donald</span> <span class=\"additional-name\">B.</span> <span class=\"family-name\">Hausch</span></span></span> </li>\n",
      "</ul>\n",
      "<span class=\"page-range\" style=\"font-size:12px\">(pp. 125-147)</span>\n",
      "</h3>\n",
      "</article>\n",
      "<article class=\"journal-article art_5196\" id=\"10.1257/aer.89.1.148\">\n",
      "<h3 class=\"title\">\n",
      "<a href=\"/articles?id=10.1257/aer.89.1.148\">Rules of Thumb versus Dynamic Programming</a>\n",
      "<ul class=\"attribution\">\n",
      "<li class=\"author\"> <span class=\"vcard\" id=\"hcard-\" martin-lettau'=\"\"><span class=\"fn n\"><span class=\"given-name\">Martin</span> <span class=\"family-name\">Lettau</span></span></span> and  <span class=\"vcard\" harald-uhlig'=\"\" id=\"hcard-\"><span class=\"fn n\"><span class=\"given-name\">Harald</span> <span class=\"family-name\">Uhlig</span></span></span> </li>\n",
      "</ul>\n",
      "<span class=\"page-range\" style=\"font-size:12px\">(pp. 148-174)</span>\n",
      "</h3>\n",
      "</article>\n",
      "<article class=\"journal-article art_5195\" id=\"10.1257/aer.89.1.175\">\n",
      "<h3 class=\"title\">\n",
      "<a href=\"/articles?id=10.1257/aer.89.1.175\">The Generalized War of Attrition</a>\n",
      "<ul class=\"attribution\">\n",
      "<li class=\"author\"> <span class=\"vcard\" id=\"hcard-\" jeremy-bulow'=\"\"><span class=\"fn n\"><span class=\"given-name\">Jeremy</span> <span class=\"family-name\">Bulow</span></span></span> and  <span class=\"vcard\" id=\"hcard-\" paul-klemperer'=\"\"><span class=\"fn n\"><span class=\"given-name\">Paul</span> <span class=\"family-name\">Klemperer</span></span></span> </li>\n",
      "</ul>\n",
      "<span class=\"page-range\" style=\"font-size:12px\">(pp. 175-189)</span>\n",
      "</h3>\n",
      "</article>\n",
      "<article class=\"journal-article art_5194\" id=\"10.1257/aer.89.1.190\">\n",
      "<h3 class=\"title\">\n",
      "<a href=\"/articles?id=10.1257/aer.89.1.190\">The Role of Multilateral Institutions in International Trade Cooperation</a>\n",
      "<ul class=\"attribution\">\n",
      "<li class=\"author\"> <span class=\"vcard\" giovanni-maggi'=\"\" id=\"hcard-\"><span class=\"fn n\"><span class=\"given-name\">Giovanni</span> <span class=\"family-name\">Maggi</span></span></span> </li>\n",
      "</ul>\n",
      "<span class=\"page-range\" style=\"font-size:12px\">(pp. 190-214)</span>\n",
      "</h3>\n",
      "</article>\n",
      "<article class=\"journal-article art_5193\" id=\"10.1257/aer.89.1.215\">\n",
      "<h3 class=\"title\">\n",
      "<a href=\"/articles?id=10.1257/aer.89.1.215\">An Economic Theory of GATT</a>\n",
      "<ul class=\"attribution\">\n",
      "<li class=\"author\"> <span class=\"vcard\" id=\"hcard-\" kyle-bagwell'=\"\"><span class=\"fn n\"><span class=\"given-name\">Kyle</span> <span class=\"family-name\">Bagwell</span></span></span> and  <span class=\"vcard\" id=\"hcard-\" robert-staiger'=\"\"><span class=\"fn n\"><span class=\"given-name\">Robert</span> <span class=\"additional-name\">W.</span> <span class=\"family-name\">Staiger</span></span></span> </li>\n",
      "</ul>\n",
      "<span class=\"page-range\" style=\"font-size:12px\">(pp. 215-248)</span>\n",
      "</h3>\n",
      "</article>\n",
      "<article class=\"journal-article art_5192\" id=\"10.1257/aer.89.1.249\">\n",
      "<h3 class=\"title\">\n",
      "<a href=\"/articles?id=10.1257/aer.89.1.249\">Technology, Employment, and the Business Cycle: Do Technology Shocks Explain Aggregate Fluctuations?</a>\n",
      "<ul class=\"attribution\">\n",
      "<li class=\"author\"> <span class=\"vcard\" id=\"hcard-\" jordi-galí'=\"\"><span class=\"fn n\"><span class=\"given-name\">Jordi</span> <span class=\"family-name\">Galí</span></span></span> </li>\n",
      "</ul>\n",
      "<span class=\"page-range\" style=\"font-size:12px\">(pp. 249-271)</span>\n",
      "</h3>\n",
      "</article>\n",
      "<article class=\"journal-article art_5191\" id=\"10.1257/aer.89.1.272\">\n",
      "<h3 class=\"title\">\n",
      "<a href=\"/articles?id=10.1257/aer.89.1.272\">Scale Economies and Industry Agglomeration Externalities: A Dynamic Cost Function Approach</a>\n",
      "<ul class=\"attribution\">\n",
      "<li class=\"author\"> <span catherine-morrison=\"\" class=\"vcard\" id=\"hcard-\" paul'=\"\"><span class=\"fn n\"><span class=\"given-name\">Catherine</span> <span class=\"additional-name\">J.</span> <span class=\"family-name\">Morrison Paul</span></span></span> and  <span class=\"vcard\" donald-siegel'=\"\" id=\"hcard-\"><span class=\"fn n\"><span class=\"given-name\">Donald</span> <span class=\"additional-name\">S.</span> <span class=\"family-name\">Siegel</span></span></span> </li>\n",
      "</ul>\n",
      "<span class=\"page-range\" style=\"font-size:12px\">(pp. 272-290)</span>\n",
      "</h3>\n",
      "</article>\n",
      "<article class=\"journal-article art_5188\" id=\"10.1257/aer.89.1.291\">\n",
      "<article class=\"news-item news-type\">SHORTER PAPERS</article>\n",
      "<h3 class=\"title\">\n",
      "<a href=\"/articles?id=10.1257/aer.89.1.291\">Can Affirmative Action Be Cost Effective? An Experimental Examination of Price-Preference Auctions</a>\n",
      "<ul class=\"attribution\">\n",
      "<li class=\"author\"> <span allan-corns'=\"\" class=\"vcard\" id=\"hcard-\"><span class=\"fn n\"><span class=\"given-name\">Allan</span> <span class=\"family-name\">Corns</span></span></span> and  <span andrew-schotter'=\"\" class=\"vcard\" id=\"hcard-\"><span class=\"fn n\"><span class=\"given-name\">Andrew</span> <span class=\"family-name\">Schotter</span></span></span> </li>\n",
      "</ul>\n",
      "<span class=\"page-range\" style=\"font-size:12px\">(pp. 291-305)</span>\n",
      "</h3>\n",
      "</article>\n",
      "<article class=\"journal-article art_5189\" id=\"10.1257/aer.89.1.306\">\n",
      "<article class=\"news-item news-type\">SHORTER PAPERS</article>\n",
      "<h3 class=\"title\">\n",
      "<a href=\"/articles?id=10.1257/aer.89.1.306\">Overconfidence and Excess Entry: An Experimental Approach</a>\n",
      "<ul class=\"attribution\">\n",
      "<li class=\"author\"> <span class=\"vcard\" colin-camerer'=\"\" id=\"hcard-\"><span class=\"fn n\"><span class=\"given-name\">Colin</span> <span class=\"family-name\">Camerer</span></span></span> and  <span class=\"vcard\" dan-lovallo'=\"\" id=\"hcard-\"><span class=\"fn n\"><span class=\"given-name\">Dan</span> <span class=\"family-name\">Lovallo</span></span></span> </li>\n",
      "</ul>\n",
      "<span class=\"page-range\" style=\"font-size:12px\">(pp. 306-318)</span>\n",
      "</h3>\n",
      "</article>\n",
      "<article class=\"journal-article art_5190\" id=\"10.1257/aer.89.1.319\">\n",
      "<article class=\"news-item news-type\">SHORTER PAPERS</article>\n",
      "<h3 class=\"title\">\n",
      "<a href=\"/articles?id=10.1257/aer.89.1.319\">The Winner's Curse and Public Information in Common Value Auctions: Comment</a>\n",
      "<ul class=\"attribution\">\n",
      "<li class=\"author\"> <span class=\"vcard\" id=\"hcard-\" james-cox'=\"\"><span class=\"fn n\"><span class=\"given-name\">James</span> <span class=\"additional-name\">C.</span> <span class=\"family-name\">Cox</span></span></span>,  <span class=\"vcard\" id=\"hcard-\" samuel-dinkin'=\"\"><span class=\"fn n\"><span class=\"given-name\">Samuel</span> <span class=\"additional-name\">H.</span> <span class=\"family-name\">Dinkin</span></span></span> and  <span class=\"vcard\" id=\"hcard-\" vernon-smith'=\"\"><span class=\"fn n\"><span class=\"given-name\">Vernon</span> <span class=\"additional-name\">L.</span> <span class=\"family-name\">Smith</span></span></span> </li>\n",
      "</ul>\n",
      "<span class=\"page-range\" style=\"font-size:12px\">(pp. 319-324)</span>\n",
      "</h3>\n",
      "</article>\n",
      "<article class=\"journal-article art_5186\" id=\"10.1257/aer.89.1.325\">\n",
      "<article class=\"news-item news-type\">SHORTER PAPERS</article>\n",
      "<h3 class=\"title\">\n",
      "<a href=\"/articles?id=10.1257/aer.89.1.325\">The Winner's Curse and Public Information in Common Value Auctions: Reply</a>\n",
      "<ul class=\"attribution\">\n",
      "<li class=\"author\"> <span class=\"vcard\" colin-campbell'=\"\" id=\"hcard-\"><span class=\"fn n\"><span class=\"given-name\">Colin</span> <span class=\"additional-name\">M.</span> <span class=\"family-name\">Campbell</span></span></span>,  <span class=\"vcard\" id=\"hcard-\" john-kagel'=\"\"><span class=\"fn n\"><span class=\"given-name\">John</span> <span class=\"additional-name\">H.</span> <span class=\"family-name\">Kagel</span></span></span> and  <span class=\"vcard\" dan-levin'=\"\" id=\"hcard-\"><span class=\"fn n\"><span class=\"given-name\">Dan</span> <span class=\"family-name\">Levin</span></span></span> </li>\n",
      "</ul>\n",
      "<span class=\"page-range\" style=\"font-size:12px\">(pp. 325-334)</span>\n",
      "</h3>\n",
      "</article>\n",
      "<article class=\"journal-article art_5187\" id=\"10.1257/aer.89.1.335\">\n",
      "<article class=\"news-item news-type\">SHORTER PAPERS</article>\n",
      "<h3 class=\"title\">\n",
      "<a href=\"/articles?id=10.1257/aer.89.1.335\">Social Distance and Other-Regarding Behavior in Dictator Games: Comment</a>\n",
      "<ul class=\"attribution\">\n",
      "<li class=\"author\"> <span class=\"vcard\" id=\"hcard-\" iris-bohnet'=\"\"><span class=\"fn n\"><span class=\"given-name\">Iris</span> <span class=\"family-name\">Bohnet</span></span></span> and  <span bruno-frey'=\"\" class=\"vcard\" id=\"hcard-\"><span class=\"fn n\"><span class=\"given-name\">Bruno</span> <span class=\"additional-name\">S.</span> <span class=\"family-name\">Frey</span></span></span> </li>\n",
      "</ul>\n",
      "<span class=\"page-range\" style=\"font-size:12px\">(pp. 335-339)</span>\n",
      "</h3>\n",
      "</article>\n",
      "<article class=\"journal-article art_5183\" id=\"10.1257/aer.89.1.340\">\n",
      "<article class=\"news-item news-type\">SHORTER PAPERS</article>\n",
      "<h3 class=\"title\">\n",
      "<a href=\"/articles?id=10.1257/aer.89.1.340\">Social Distance and Other-Regarding Behavior in Dictator Games: Reply</a>\n",
      "<ul class=\"attribution\">\n",
      "<li class=\"author\"> <span class=\"vcard\" elizabeth-hoffman'=\"\" id=\"hcard-\"><span class=\"fn n\"><span class=\"given-name\">Elizabeth</span> <span class=\"family-name\">Hoffman</span></span></span>,  <span class=\"vcard\" id=\"hcard-\" kevin-mccabe'=\"\"><span class=\"fn n\"><span class=\"given-name\">Kevin</span> <span class=\"family-name\">McCabe</span></span></span> and  <span class=\"vcard\" id=\"hcard-\" vernon-smith'=\"\"><span class=\"fn n\"><span class=\"given-name\">Vernon</span> <span class=\"additional-name\">L.</span> <span class=\"family-name\">Smith</span></span></span> </li>\n",
      "</ul>\n",
      "<span class=\"page-range\" style=\"font-size:12px\">(pp. 340-341)</span>\n",
      "</h3>\n",
      "</article>\n",
      "<article class=\"journal-article art_5184\" id=\"10.1257/aer.89.1.342\">\n",
      "<article class=\"news-item news-type\">SHORTER PAPERS</article>\n",
      "<h3 class=\"title\">\n",
      "<a href=\"/articles?id=10.1257/aer.89.1.342\">Optimal Inflation Targets, \"Conservative\" Central Banks, and Linear Inflation Contracts: Comment</a>\n",
      "<ul class=\"attribution\">\n",
      "<li class=\"author\"> <span class=\"vcard\" id=\"hcard-\" roel-beetsma'=\"\"><span class=\"fn n\"><span class=\"given-name\">Roel</span> <span class=\"additional-name\">M. W. J.</span> <span class=\"family-name\">Beetsma</span></span></span> and  <span class=\"vcard\" henrik-jensen'=\"\" id=\"hcard-\"><span class=\"fn n\"><span class=\"given-name\">Henrik</span> <span class=\"family-name\">Jensen</span></span></span> </li>\n",
      "</ul>\n",
      "<span class=\"page-range\" style=\"font-size:12px\">(pp. 342-347)</span>\n",
      "</h3>\n",
      "</article>\n",
      "</section>\n"
     ]
    },
    {
     "data": {
      "text/plain": [
       "'https://www.aeaweb.org/articles?id=10.1257/aer.89.1.1'"
      ]
     },
     "execution_count": 234,
     "metadata": {},
     "output_type": "execute_result"
    }
   ],
   "source": [
    "# Getting the HTML\n",
    "issue_page = requests.get(issue_url)\n",
    "issue_soup = BeautifulSoup(issue_page.content,\"html.parser\")\n",
    "\n",
    "# Finding all articles\n",
    "section_issue = issue_soup.find_all(\"section\", class_=\"journal-article-group\")[0]\n",
    "print( section_issue )\n",
    "\n",
    "# Finding all link of papers\n",
    "all_paper_links = section_issue.findChildren( 'a' )\n",
    "paper_url = \"https://www.aeaweb.org\" + all_paper_links[1]['href']\n",
    "paper_url"
   ]
  },
  {
   "cell_type": "markdown",
   "metadata": {},
   "source": [
    "Get all paper links"
   ]
  },
  {
   "cell_type": "code",
   "execution_count": null,
   "metadata": {},
   "outputs": [],
   "source": [
    "all_link_papers = []\n",
    "for issue_url in link_issues:\n",
    "    \n",
    "    # Getting the HTML\n",
    "    issue_page = requests.get(issue_url)\n",
    "    issue_soup = BeautifulSoup(issue_page.content,\"html.parser\")\n",
    "\n",
    "    # Finding all articles\n",
    "    section_issue = issue_soup.find_all(\"section\", class_=\"journal-article-group\")[0]\n",
    "\n",
    "    # Finding all link of papers\n",
    "    all_paper_links = section_issue.findChildren( 'a' )\n",
    "    for url in all_paper_links[1:]:\n",
    "        \n",
    "        paper_url = \"https://www.aeaweb.org\" + url['href']\n",
    "        all_link_papers.append( paper_url )"
   ]
  },
  {
   "cell_type": "code",
   "execution_count": 186,
   "metadata": {},
   "outputs": [
    {
     "data": {
      "text/plain": [
       "4885"
      ]
     },
     "execution_count": 186,
     "metadata": {},
     "output_type": "execute_result"
    }
   ],
   "source": [
    "len(all_link_papers)"
   ]
  },
  {
   "cell_type": "markdown",
   "metadata": {},
   "source": [
    "#### Getting data from paper page"
   ]
  },
  {
   "cell_type": "code",
   "execution_count": 236,
   "metadata": {},
   "outputs": [],
   "source": [
    "# Parse page\n",
    "paper_page = requests.get(all_link_papers[0])\n",
    "paper_soup = BeautifulSoup(paper_page.content,\"html.parser\")"
   ]
  },
  {
   "cell_type": "code",
   "execution_count": 237,
   "metadata": {},
   "outputs": [],
   "source": [
    "# Select paper information content\n",
    "section_content = paper_soup.find( 'section', class_ = \"primary article-detail journal-article\" )"
   ]
  },
  {
   "cell_type": "markdown",
   "metadata": {},
   "source": [
    "Select title of paper"
   ]
  },
  {
   "cell_type": "code",
   "execution_count": 242,
   "metadata": {},
   "outputs": [
    {
     "data": {
      "text/plain": [
       "'Persistent Overconfidence and Biased Memory: Evidence from Managers'"
      ]
     },
     "execution_count": 242,
     "metadata": {},
     "output_type": "execute_result"
    }
   ],
   "source": [
    "section_content.findChildren( 'h1' )[0].getText()"
   ]
  },
  {
   "cell_type": "markdown",
   "metadata": {},
   "source": [
    "Get all Authors"
   ]
  },
  {
   "cell_type": "code",
   "execution_count": 241,
   "metadata": {},
   "outputs": [
    {
     "data": {
      "text/plain": [
       "[<ul class=\"attribution\">\n",
       " <li class=\"author\" style=\"margin-bottom:0.5em; \">\n",
       "          David Huffman    </li>\n",
       " <li class=\"author\" style=\"margin-bottom:0.5em; \">\n",
       "          Collin Raymond    </li>\n",
       " <li class=\"author\" style=\"margin-bottom:0.5em; \">\n",
       "          Julia Shvets    </li>\n",
       " <div style=\"margin-top:25px;\">\n",
       " <a class=\"hoverOverRide\" href=\"/issues/696\">\n",
       " <li class=\"journal\">American Economic Review </li>\n",
       " </a>\n",
       " <a class=\"hoverOverRide\" href=\"/issues/696\">\n",
       " <li class=\"journal\">vol. 112,\n",
       " \t\t\t\t\tno. 10, \t\t\t\t\tOctober 2022</li>\n",
       " </a>\n",
       " </div>\n",
       " <li class=\"pages\">(pp. 3141-75)</li>\n",
       " </ul>]"
      ]
     },
     "execution_count": 241,
     "metadata": {},
     "output_type": "execute_result"
    }
   ],
   "source": [
    "# Box of authors\n",
    "author_issue = section_content.findChildren( \"ul\", class_ = 'attribution'  )\n",
    "author_issue"
   ]
  },
  {
   "cell_type": "markdown",
   "metadata": {},
   "source": [
    "Find all authors"
   ]
  },
  {
   "cell_type": "code",
   "execution_count": 243,
   "metadata": {},
   "outputs": [],
   "source": [
    "authors_name = []\n",
    "all_authors = author_issue[0].find_all(\"li\", class_=\"author\")"
   ]
  },
  {
   "cell_type": "code",
   "execution_count": 250,
   "metadata": {},
   "outputs": [
    {
     "data": {
      "text/plain": [
       "'David Huffman,Collin Raymond,Julia Shvets'"
      ]
     },
     "execution_count": 250,
     "metadata": {},
     "output_type": "execute_result"
    }
   ],
   "source": [
    "for author_box in all_authors:\n",
    "    \n",
    "    authos_name = \" \".join( author_box.getText().replace( \"\\n\", \"\" ).split() )\n",
    "    authors_name.append(authos_name)\n",
    "    \n",
    "authors = \",\".join(authors_name)\n",
    "authors"
   ]
  },
  {
   "cell_type": "code",
   "execution_count": 251,
   "metadata": {},
   "outputs": [],
   "source": [
    "all_author1 = author_issue[0].find_all(\"li\", class_=\"author\")[0].getText()\n",
    "all_author1 = author_issue[0].find_all(\"li\", class_=\"author\")[1].getText()"
   ]
  },
  {
   "cell_type": "markdown",
   "metadata": {},
   "source": [
    "Get Volume, number and Month"
   ]
  },
  {
   "cell_type": "code",
   "execution_count": 252,
   "metadata": {},
   "outputs": [
    {
     "name": "stdout",
     "output_type": "stream",
     "text": [
      "vol. 112  no. 10  October 2022\n"
     ]
    }
   ],
   "source": [
    "vol, number, month = author_issue[0].find_all(\"div\" )[0] \\\n",
    "                            .findChildren( 'li' )[1] \\\n",
    "                            .get_text() \\\n",
    "                            .replace(\"\\t\", \"\").replace(\"\\n\", \" \").split(\",\")\n",
    "\n",
    "print(vol, number, month)"
   ]
  },
  {
   "cell_type": "markdown",
   "metadata": {},
   "source": [
    "Pages"
   ]
  },
  {
   "cell_type": "code",
   "execution_count": 253,
   "metadata": {},
   "outputs": [
    {
     "data": {
      "text/plain": [
       "'(pp. 3141-75)'"
      ]
     },
     "execution_count": 253,
     "metadata": {},
     "output_type": "execute_result"
    }
   ],
   "source": [
    "pages = author_issue[0].find_all(\"li\", class_=\"pages\")[0].get_text()\n",
    "pages"
   ]
  },
  {
   "cell_type": "markdown",
   "metadata": {},
   "source": [
    "Abstract"
   ]
  },
  {
   "cell_type": "code",
   "execution_count": 254,
   "metadata": {},
   "outputs": [
    {
     "data": {
      "text/plain": [
       "<section class=\"article-information abstract\">\n",
       "<h2>Abstract</h2>\n",
       "\t\t\t\t\tA long-standing puzzle is how overconfidence can persist in settings characterized by repeated feedback. This paper studies managers who participate repeatedly in a high-powered tournament incentive system, learning relative performance each time. Using reduced form and structural methods we find that (i) managers make overconfident predictions about future performance; (ii) managers have overly positive memories of past performance; (iii) the two phenomena are linked at an individual level. Our results are consistent with models of motivated beliefs in which individuals are motivated to distort memories of feedback and preserve unrealistic expectations.\t\t\t\t</section>"
      ]
     },
     "execution_count": 254,
     "metadata": {},
     "output_type": "execute_result"
    }
   ],
   "source": [
    "section_content.find( 'section', {\"id\": \"article-information\" }  ) \\\n",
    "                        .find_all( 'section', class_ = \"article-information abstract\" )[0]"
   ]
  },
  {
   "cell_type": "code",
   "execution_count": 256,
   "metadata": {},
   "outputs": [
    {
     "data": {
      "text/plain": [
       "'A long-standing puzzle is how overconfidence can persist in settings characterized by repeated feedback. This paper studies managers who participate repeatedly in a high-powered tournament incentive system, learning relative performance each time. Using reduced form and structural methods we find that (i) managers make overconfident predictions about future performance; (ii) managers have overly positive memories of past performance; (iii) the two phenomena are linked at an individual level. Our results are consistent with models of motivated beliefs in which individuals are motivated to distort memories of feedback and preserve unrealistic expectations.'"
      ]
     },
     "execution_count": 256,
     "metadata": {},
     "output_type": "execute_result"
    }
   ],
   "source": [
    "abstract = section_content.find( 'section', {\"id\": \"article-information\" }  ) \\\n",
    "                        .find_all( 'section', class_ = \"article-information abstract\" )[0] \\\n",
    "                        .find( 'h2' ) \\\n",
    "                        .next_sibling \\\n",
    "                        .replace(\"\\t\", \"\").replace(\"\\n\", \"\")\n",
    "abstract"
   ]
  },
  {
   "cell_type": "markdown",
   "metadata": {},
   "source": [
    "Classifications"
   ]
  },
  {
   "cell_type": "code",
   "execution_count": 257,
   "metadata": {},
   "outputs": [
    {
     "data": {
      "text/plain": [
       "[<strong class=\"code\">D82</strong>,\n",
       " <strong class=\"code\">D83</strong>,\n",
       " <strong class=\"code\">J33</strong>,\n",
       " <strong class=\"code\">L25</strong>,\n",
       " <strong class=\"code\">L81</strong>,\n",
       " <strong class=\"code\">M52</strong>,\n",
       " <strong class=\"code\">M54</strong>]"
      ]
     },
     "execution_count": 257,
     "metadata": {},
     "output_type": "execute_result"
    }
   ],
   "source": [
    "all_classifications = section_content.find( 'section', {\"id\": \"article-information\" }  ) \\\n",
    "                            .find_all( 'section', class_ = \"article-information jel-classification\" )[0] \\\n",
    "                            .find_all( 'strong' )\n",
    "all_classifications"
   ]
  },
  {
   "cell_type": "code",
   "execution_count": 258,
   "metadata": {},
   "outputs": [
    {
     "data": {
      "text/plain": [
       "'Asymmetric and Private Information; Mechanism Design'"
      ]
     },
     "execution_count": 258,
     "metadata": {},
     "output_type": "execute_result"
    }
   ],
   "source": [
    "section_content.find( 'section', {\"id\": \"article-information\" }  ) \\\n",
    "                .find_all( 'section', class_ = \"article-information jel-classification\" )[0] \\\n",
    "                .find_all( 'strong' )[0] \\\n",
    "                .next_sibling.replace(\"\\t\", \"\").replace(\"\\n\", \"\")"
   ]
  },
  {
   "cell_type": "code",
   "execution_count": 259,
   "metadata": {},
   "outputs": [
    {
     "data": {
      "text/plain": [
       "{'D82': 'Asymmetric and Private Information; Mechanism Design',\n",
       " 'D83': 'Search; Learning; Information and Knowledge; Communication; Belief; Unawareness',\n",
       " 'J33': 'Compensation Packages; Payment Methods',\n",
       " 'L25': 'Firm Performance: Size, Diversification, and Scope',\n",
       " 'L81': 'Retail and Wholesale Trade; e-Commerce',\n",
       " 'M52': 'Personnel Economics: Compensation and Compensation Methods and Their Effects',\n",
       " 'M54': 'Personnel Economics: Labor Management'}"
      ]
     },
     "execution_count": 259,
     "metadata": {},
     "output_type": "execute_result"
    }
   ],
   "source": [
    "classifications = {}\n",
    "codes = []\n",
    "title_codes = []\n",
    "for clasification in all_classifications:\n",
    "    \n",
    "    code = clasification.get_text()\n",
    "    text_code = clasification.next_sibling.replace(\"\\t\", \"\").replace(\"\\n\", \"\")\n",
    "    classifications[ code ] = text_code\n",
    "    \n",
    "    codes.append( clasification.get_text() )\n",
    "    title_codes.append( text_code )\n",
    "\n",
    "classifications"
   ]
  },
  {
   "cell_type": "code",
   "execution_count": 261,
   "metadata": {},
   "outputs": [
    {
     "data": {
      "text/plain": [
       "'Asymmetric and Private Information; Mechanism Design<,>Search; Learning; Information and Knowledge; Communication; Belief; Unawareness<,>Compensation Packages; Payment Methods<,>Firm Performance: Size, Diversification, and Scope<,>Retail and Wholesale Trade; e-Commerce<,>Personnel Economics: Compensation and Compensation Methods and Their Effects<,>Personnel Economics: Labor Management'"
      ]
     },
     "execution_count": 261,
     "metadata": {},
     "output_type": "execute_result"
    }
   ],
   "source": [
    "all_codes = \"<,>\".join(codes)\n",
    "all_title_codes = \"<,>\".join(title_codes)\n",
    "all_title_codes"
   ]
  },
  {
   "cell_type": "markdown",
   "metadata": {},
   "source": [
    "#### Unify all information for papers"
   ]
  },
  {
   "cell_type": "code",
   "execution_count": 220,
   "metadata": {},
   "outputs": [],
   "source": [
    "# Parse page\n",
    "title_list = []\n",
    "abstract_list = []\n",
    "volum_list = []\n",
    "number_list = []\n",
    "month_list = []\n",
    "pages_list = []\n",
    "authors_list = []\n",
    "class_list = []\n",
    "links_reviewed = []\n",
    "code_list = []\n",
    "title_code_list = []\n",
    "\n",
    "\n",
    "for paper_link in all_link_papers:\n",
    "    \n",
    "    # Papers\n",
    "    try:\n",
    "        paper_page = requests.get( paper_link )\n",
    "        paper_soup = BeautifulSoup( paper_page.content,\"html.parser\" )\n",
    "        links_reviewed.append( paper_link )\n",
    "    except:\n",
    "        links_reviewed.append( \"NaN\" )\n",
    "\n",
    "    \n",
    "    # Select paper information content\n",
    "    try:\n",
    "        section_content = paper_soup.find( 'section', class_ = \"primary article-detail journal-article\" )\n",
    "        title = section_content.findChildren( 'h1' )[0].getText()\n",
    "        title_list.append( title )\n",
    "    except:\n",
    "        title_list.append( \"NaN\" )\n",
    "\n",
    "    # Get all Authors\n",
    "\n",
    "    # Box of authors\n",
    "    \n",
    "    try:\n",
    "        author_issue = section_content.findChildren( \"ul\", class_ = 'attribution'  )\n",
    "        author_issue\n",
    "\n",
    "        #Find all authors\n",
    "\n",
    "        authors_name = []\n",
    "        all_authors = author_issue[0].find_all(\"li\", class_=\"author\")\n",
    "        for author_box in all_authors:\n",
    "\n",
    "            authos_name = \" \".join( author_box.getText().replace( \"\\n\", \"\" ).split() )\n",
    "            authors_name.append(authos_name)\n",
    "\n",
    "        authors = \",\".join(authors_name)\n",
    "        authors_list.append(authors)\n",
    "    except:\n",
    "        authors_list.append(\"NaN\")\n",
    "        \n",
    "\n",
    "    #  Get Volume, number and Month\n",
    "    \n",
    "    try:\n",
    "        vol, number, month = author_issue[0].find_all(\"div\" )[0] \\\n",
    "                                    .findChildren( 'li' )[1] \\\n",
    "                                    .get_text() \\\n",
    "                                    .replace(\"\\t\", \"\").replace(\"\\n\", \" \").split(\",\")\n",
    "\n",
    "        volum_list.append( vol )\n",
    "        number_list.append( number )\n",
    "        month_list.append( month )\n",
    "    \n",
    "    except:\n",
    "        volum_list.append( \"NaN\" )\n",
    "        number_list.append( \"NaN\" )\n",
    "        month_list.append( \"NaN\" )\n",
    "\n",
    "    \n",
    "    #Pages\n",
    "    \n",
    "    try:\n",
    "        pages = author_issue[0].find_all(\"li\", class_=\"pages\")[0].get_text()\n",
    "        pages_list.append( pages )\n",
    "    except:\n",
    "        pages_list.append( \"NaN\" )\n",
    "\n",
    "    # Abstract\n",
    "    \n",
    "    try:\n",
    "        abstract = section_content.find( 'section', {\"id\": \"article-information\" }  ) \\\n",
    "                                .find_all( 'section', class_ = \"article-information abstract\" )[0] \\\n",
    "                                .find( 'h2' ) \\\n",
    "                                .next_sibling \\\n",
    "                                .replace(\"\\t\", \"\").replace(\"\\n\", \"\")\n",
    "        abstract_list.append( abstract )\n",
    "        \n",
    "    except:\n",
    "        abstract_list.append( \"NaN\" )\n",
    "\n",
    "    \n",
    "    # Classifications\n",
    "    \n",
    "    try:\n",
    "        all_classifications = section_content.find( 'section', {\"id\": \"article-information\" }  ) \\\n",
    "                                    .find_all( 'section', class_ = \"article-information jel-classification\" )[0] \\\n",
    "                                    .find_all( 'strong' )\n",
    "        all_classifications\n",
    "\n",
    "        section_content.find( 'section', {\"id\": \"article-information\" }  ) \\\n",
    "                        .find_all( 'section', class_ = \"article-information jel-classification\" )[0] \\\n",
    "                        .find_all( 'strong' )[0] \\\n",
    "                        .next_sibling.replace(\"\\t\", \"\").replace(\"\\n\", \"\")\n",
    "\n",
    "        classifications = {}\n",
    "        codes = []\n",
    "        title_codes = []\n",
    "        for clasification in all_classifications:\n",
    "\n",
    "            code = clasification.get_text()\n",
    "            text_code = clasification.next_sibling.replace(\"\\t\", \"\").replace(\"\\n\", \"\")\n",
    "            classifications[ code ] = text_code\n",
    "\n",
    "            codes.append( clasification.get_text() )\n",
    "            title_codes.append( text_code )\n",
    "\n",
    "        all_codes = \"<,>\".join(codes)\n",
    "        all_title_codes = \"<,>\".join(title_codes)\n",
    "        \n",
    "        title_code_list.append( all_title_codes )\n",
    "        code_list.append( all_codes )\n",
    "    \n",
    "    except:\n",
    "        title_code_list.append( \"NaN\" )\n",
    "        code_list.append( \"NaN\" )\n",
    "        "
   ]
  },
  {
   "cell_type": "code",
   "execution_count": 221,
   "metadata": {},
   "outputs": [
    {
     "data": {
      "text/html": [
       "<div>\n",
       "<style scoped>\n",
       "    .dataframe tbody tr th:only-of-type {\n",
       "        vertical-align: middle;\n",
       "    }\n",
       "\n",
       "    .dataframe tbody tr th {\n",
       "        vertical-align: top;\n",
       "    }\n",
       "\n",
       "    .dataframe thead th {\n",
       "        text-align: right;\n",
       "    }\n",
       "</style>\n",
       "<table border=\"1\" class=\"dataframe\">\n",
       "  <thead>\n",
       "    <tr style=\"text-align: right;\">\n",
       "      <th></th>\n",
       "      <th>Title</th>\n",
       "      <th>Abstract</th>\n",
       "      <th>Volume</th>\n",
       "      <th>Number</th>\n",
       "      <th>Month</th>\n",
       "      <th>Pages</th>\n",
       "      <th>Authors</th>\n",
       "      <th>Codes_Class</th>\n",
       "      <th>Title_Codes_Class</th>\n",
       "    </tr>\n",
       "  </thead>\n",
       "  <tbody>\n",
       "    <tr>\n",
       "      <th>0</th>\n",
       "      <td>Persistent Overconfidence and Biased Memory: E...</td>\n",
       "      <td>A long-standing puzzle is how overconfidence c...</td>\n",
       "      <td>vol. 112</td>\n",
       "      <td>no. 10</td>\n",
       "      <td>October 2022</td>\n",
       "      <td>(pp. 3141-75)</td>\n",
       "      <td>David Huffman,Collin Raymond,Julia Shvets</td>\n",
       "      <td>D82&lt;,&gt;D83&lt;,&gt;J33&lt;,&gt;L25&lt;,&gt;L81&lt;,&gt;M52&lt;,&gt;M54</td>\n",
       "      <td>Asymmetric and Private Information; Mechanism ...</td>\n",
       "    </tr>\n",
       "    <tr>\n",
       "      <th>1</th>\n",
       "      <td>Religious Festivals and Economic Development: ...</td>\n",
       "      <td>Does variation in how religious festivals are ...</td>\n",
       "      <td>vol. 112</td>\n",
       "      <td>no. 10</td>\n",
       "      <td>October 2022</td>\n",
       "      <td>(pp. 3176-3214)</td>\n",
       "      <td>Eduardo Montero,Dean Yang</td>\n",
       "      <td>O12&lt;,&gt;O13&lt;,&gt;O18&lt;,&gt;O43&lt;,&gt;Q12&lt;,&gt;Z12&lt;,&gt;Z13</td>\n",
       "      <td>Microeconomic Analyses of Economic Development...</td>\n",
       "    </tr>\n",
       "    <tr>\n",
       "      <th>2</th>\n",
       "      <td>Posterior Separable Cost of Information</td>\n",
       "      <td>We provide testable conditions under which the...</td>\n",
       "      <td>vol. 112</td>\n",
       "      <td>no. 10</td>\n",
       "      <td>October 2022</td>\n",
       "      <td>(pp. 3215-59)</td>\n",
       "      <td>Tommaso Denti</td>\n",
       "      <td>C91&lt;,&gt;D11&lt;,&gt;D12&lt;,&gt;D81&lt;,&gt;D91</td>\n",
       "      <td>Design of Experiments: Laboratory, Individual&lt;...</td>\n",
       "    </tr>\n",
       "    <tr>\n",
       "      <th>3</th>\n",
       "      <td>Valid t-Ratio Inference for IV</td>\n",
       "      <td>In the single-IV model, researchers commonly r...</td>\n",
       "      <td>vol. 112</td>\n",
       "      <td>no. 10</td>\n",
       "      <td>October 2022</td>\n",
       "      <td>(pp. 3260-90)</td>\n",
       "      <td>David S. Lee,Justin McCrary,Marcelo J. Moreira...</td>\n",
       "      <td>C13&lt;,&gt;C26</td>\n",
       "      <td>Estimation: General&lt;,&gt;Single Equation Models: ...</td>\n",
       "    </tr>\n",
       "    <tr>\n",
       "      <th>4</th>\n",
       "      <td>Credit, Attention, and Externalities in the Ad...</td>\n",
       "      <td>We study an energy efficient charcoal cookstov...</td>\n",
       "      <td>vol. 112</td>\n",
       "      <td>no. 10</td>\n",
       "      <td>October 2022</td>\n",
       "      <td>(pp. 3291-3330)</td>\n",
       "      <td>Susanna B. Berkouwer,Joshua T. Dean</td>\n",
       "      <td>D12&lt;,&gt;D91&lt;,&gt;G51&lt;,&gt;O12&lt;,&gt;O13&lt;,&gt;O32&lt;,&gt;Q54</td>\n",
       "      <td>Consumer Economics: Empirical Analysis&lt;,&gt;Micro...</td>\n",
       "    </tr>\n",
       "    <tr>\n",
       "      <th>...</th>\n",
       "      <td>...</td>\n",
       "      <td>...</td>\n",
       "      <td>...</td>\n",
       "      <td>...</td>\n",
       "      <td>...</td>\n",
       "      <td>...</td>\n",
       "      <td>...</td>\n",
       "      <td>...</td>\n",
       "      <td>...</td>\n",
       "    </tr>\n",
       "    <tr>\n",
       "      <th>4880</th>\n",
       "      <td>The Winner's Curse and Public Information in C...</td>\n",
       "      <td>NaN</td>\n",
       "      <td>vol. 89</td>\n",
       "      <td>no. 1</td>\n",
       "      <td>March 1999</td>\n",
       "      <td>(pp. 319-324)</td>\n",
       "      <td>James C. Cox,Samuel H. Dinkin,Vernon L. Smith</td>\n",
       "      <td>D44&lt;,&gt;C91</td>\n",
       "      <td>Auctions&lt;,&gt;Design of Experiments: Laboratory, ...</td>\n",
       "    </tr>\n",
       "    <tr>\n",
       "      <th>4881</th>\n",
       "      <td>The Winner's Curse and Public Information in C...</td>\n",
       "      <td>NaN</td>\n",
       "      <td>vol. 89</td>\n",
       "      <td>no. 1</td>\n",
       "      <td>March 1999</td>\n",
       "      <td>(pp. 325-334)</td>\n",
       "      <td>Colin M. Campbell,John H. Kagel,Dan Levin</td>\n",
       "      <td>D44</td>\n",
       "      <td>Auctions</td>\n",
       "    </tr>\n",
       "    <tr>\n",
       "      <th>4882</th>\n",
       "      <td>Social Distance and Other-Regarding Behavior i...</td>\n",
       "      <td>NaN</td>\n",
       "      <td>vol. 89</td>\n",
       "      <td>no. 1</td>\n",
       "      <td>March 1999</td>\n",
       "      <td>(pp. 335-339)</td>\n",
       "      <td>Iris Bohnet,Bruno S. Frey</td>\n",
       "      <td>C72</td>\n",
       "      <td>Noncooperative Games</td>\n",
       "    </tr>\n",
       "    <tr>\n",
       "      <th>4883</th>\n",
       "      <td>Social Distance and Other-Regarding Behavior i...</td>\n",
       "      <td>NaN</td>\n",
       "      <td>vol. 89</td>\n",
       "      <td>no. 1</td>\n",
       "      <td>March 1999</td>\n",
       "      <td>(pp. 340-341)</td>\n",
       "      <td>Elizabeth Hoffman,Kevin McCabe,Vernon L. Smith</td>\n",
       "      <td>C72</td>\n",
       "      <td>Noncooperative Games</td>\n",
       "    </tr>\n",
       "    <tr>\n",
       "      <th>4884</th>\n",
       "      <td>Optimal Inflation Targets, \"Conservative\" Cent...</td>\n",
       "      <td>NaN</td>\n",
       "      <td>vol. 89</td>\n",
       "      <td>no. 1</td>\n",
       "      <td>March 1999</td>\n",
       "      <td>(pp. 342-347)</td>\n",
       "      <td>Roel M. W. J. Beetsma,Henrik Jensen</td>\n",
       "      <td>E52&lt;,&gt;E31&lt;,&gt;E58</td>\n",
       "      <td>Monetary Policy&lt;,&gt;Price Level; Inflation; Defl...</td>\n",
       "    </tr>\n",
       "  </tbody>\n",
       "</table>\n",
       "<p>4885 rows × 9 columns</p>\n",
       "</div>"
      ],
      "text/plain": [
       "                                                  Title  \\\n",
       "0     Persistent Overconfidence and Biased Memory: E...   \n",
       "1     Religious Festivals and Economic Development: ...   \n",
       "2               Posterior Separable Cost of Information   \n",
       "3                        Valid t-Ratio Inference for IV   \n",
       "4     Credit, Attention, and Externalities in the Ad...   \n",
       "...                                                 ...   \n",
       "4880  The Winner's Curse and Public Information in C...   \n",
       "4881  The Winner's Curse and Public Information in C...   \n",
       "4882  Social Distance and Other-Regarding Behavior i...   \n",
       "4883  Social Distance and Other-Regarding Behavior i...   \n",
       "4884  Optimal Inflation Targets, \"Conservative\" Cent...   \n",
       "\n",
       "                                               Abstract    Volume   Number  \\\n",
       "0     A long-standing puzzle is how overconfidence c...  vol. 112   no. 10   \n",
       "1     Does variation in how religious festivals are ...  vol. 112   no. 10   \n",
       "2     We provide testable conditions under which the...  vol. 112   no. 10   \n",
       "3     In the single-IV model, researchers commonly r...  vol. 112   no. 10   \n",
       "4     We study an energy efficient charcoal cookstov...  vol. 112   no. 10   \n",
       "...                                                 ...       ...      ...   \n",
       "4880                                                NaN   vol. 89    no. 1   \n",
       "4881                                                NaN   vol. 89    no. 1   \n",
       "4882                                                NaN   vol. 89    no. 1   \n",
       "4883                                                NaN   vol. 89    no. 1   \n",
       "4884                                                NaN   vol. 89    no. 1   \n",
       "\n",
       "              Month            Pages  \\\n",
       "0      October 2022    (pp. 3141-75)   \n",
       "1      October 2022  (pp. 3176-3214)   \n",
       "2      October 2022    (pp. 3215-59)   \n",
       "3      October 2022    (pp. 3260-90)   \n",
       "4      October 2022  (pp. 3291-3330)   \n",
       "...             ...              ...   \n",
       "4880     March 1999    (pp. 319-324)   \n",
       "4881     March 1999    (pp. 325-334)   \n",
       "4882     March 1999    (pp. 335-339)   \n",
       "4883     March 1999    (pp. 340-341)   \n",
       "4884     March 1999    (pp. 342-347)   \n",
       "\n",
       "                                                Authors  \\\n",
       "0             David Huffman,Collin Raymond,Julia Shvets   \n",
       "1                             Eduardo Montero,Dean Yang   \n",
       "2                                         Tommaso Denti   \n",
       "3     David S. Lee,Justin McCrary,Marcelo J. Moreira...   \n",
       "4                   Susanna B. Berkouwer,Joshua T. Dean   \n",
       "...                                                 ...   \n",
       "4880      James C. Cox,Samuel H. Dinkin,Vernon L. Smith   \n",
       "4881          Colin M. Campbell,John H. Kagel,Dan Levin   \n",
       "4882                          Iris Bohnet,Bruno S. Frey   \n",
       "4883     Elizabeth Hoffman,Kevin McCabe,Vernon L. Smith   \n",
       "4884                Roel M. W. J. Beetsma,Henrik Jensen   \n",
       "\n",
       "                                  Codes_Class  \\\n",
       "0     D82<,>D83<,>J33<,>L25<,>L81<,>M52<,>M54   \n",
       "1     O12<,>O13<,>O18<,>O43<,>Q12<,>Z12<,>Z13   \n",
       "2                 C91<,>D11<,>D12<,>D81<,>D91   \n",
       "3                                   C13<,>C26   \n",
       "4     D12<,>D91<,>G51<,>O12<,>O13<,>O32<,>Q54   \n",
       "...                                       ...   \n",
       "4880                                D44<,>C91   \n",
       "4881                                      D44   \n",
       "4882                                      C72   \n",
       "4883                                      C72   \n",
       "4884                          E52<,>E31<,>E58   \n",
       "\n",
       "                                      Title_Codes_Class  \n",
       "0     Asymmetric and Private Information; Mechanism ...  \n",
       "1     Microeconomic Analyses of Economic Development...  \n",
       "2     Design of Experiments: Laboratory, Individual<...  \n",
       "3     Estimation: General<,>Single Equation Models: ...  \n",
       "4     Consumer Economics: Empirical Analysis<,>Micro...  \n",
       "...                                                 ...  \n",
       "4880  Auctions<,>Design of Experiments: Laboratory, ...  \n",
       "4881                                           Auctions  \n",
       "4882                               Noncooperative Games  \n",
       "4883                               Noncooperative Games  \n",
       "4884  Monetary Policy<,>Price Level; Inflation; Defl...  \n",
       "\n",
       "[4885 rows x 9 columns]"
      ]
     },
     "execution_count": 221,
     "metadata": {},
     "output_type": "execute_result"
    }
   ],
   "source": [
    "pd.DataFrame({ \"Title\" : title_list, \"Abstract\" : abstract_list, \n",
    "  \"Volume\": volum_list, \"Number\" : number_list, \"Month\" : month_list, \n",
    " \"Pages\" : pages_list, \"Authors\" : authors_list, \"Codes_Class\" : code_list, \"Title_Codes_Class\" : title_code_list })"
   ]
  }
 ],
 "metadata": {
  "hide_input": false,
  "kernelspec": {
   "display_name": "Python 3",
   "language": "python",
   "name": "python3"
  },
  "language_info": {
   "codemirror_mode": {
    "name": "ipython",
    "version": 3
   },
   "file_extension": ".py",
   "mimetype": "text/x-python",
   "name": "python",
   "nbconvert_exporter": "python",
   "pygments_lexer": "ipython3",
   "version": "3.8.6"
  },
  "toc": {
   "base_numbering": 1,
   "nav_menu": {},
   "number_sections": true,
   "sideBar": true,
   "skip_h1_title": false,
   "title_cell": "Table of Contents",
   "title_sidebar": "Contents",
   "toc_cell": false,
   "toc_position": {},
   "toc_section_display": true,
   "toc_window_display": false
  }
 },
 "nbformat": 4,
 "nbformat_minor": 4
}
