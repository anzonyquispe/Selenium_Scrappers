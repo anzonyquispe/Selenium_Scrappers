{
 "cells": [
  {
   "cell_type": "code",
   "execution_count": null,
   "metadata": {},
   "outputs": [],
   "source": [
    "#     !pip install Aspose.Email-for-Python-via-NET"
   ]
  },
  {
   "cell_type": "code",
   "execution_count": 5,
   "metadata": {},
   "outputs": [
    {
     "ename": "ModuleNotFoundError",
     "evalue": "No module named 'libratom'",
     "output_type": "error",
     "traceback": [
      "\u001b[1;31m---------------------------------------------------------------------------\u001b[0m",
      "\u001b[1;31mModuleNotFoundError\u001b[0m                       Traceback (most recent call last)",
      "\u001b[1;32m<ipython-input-5-850d8fb21f0c>\u001b[0m in \u001b[0;36m<module>\u001b[1;34m\u001b[0m\n\u001b[1;32m----> 1\u001b[1;33m \u001b[1;32mfrom\u001b[0m \u001b[0mlibratom\u001b[0m\u001b[1;33m.\u001b[0m\u001b[0mlib\u001b[0m\u001b[1;33m.\u001b[0m\u001b[0mpff\u001b[0m \u001b[1;32mimport\u001b[0m \u001b[0mPffArchive\u001b[0m\u001b[1;33m\u001b[0m\u001b[1;33m\u001b[0m\u001b[0m\n\u001b[0m\u001b[0;32m      2\u001b[0m \u001b[1;32mfrom\u001b[0m \u001b[0memail\u001b[0m \u001b[1;32mimport\u001b[0m \u001b[0mgenerator\u001b[0m\u001b[1;33m\u001b[0m\u001b[1;33m\u001b[0m\u001b[0m\n\u001b[0;32m      3\u001b[0m \u001b[1;32mfrom\u001b[0m \u001b[0mpathlib\u001b[0m \u001b[1;32mimport\u001b[0m \u001b[0mPath\u001b[0m\u001b[1;33m\u001b[0m\u001b[1;33m\u001b[0m\u001b[0m\n\u001b[0;32m      4\u001b[0m \u001b[1;33m\u001b[0m\u001b[0m\n\u001b[0;32m      5\u001b[0m \u001b[0marchive\u001b[0m \u001b[1;33m=\u001b[0m \u001b[0mPffArchive\u001b[0m\u001b[1;33m(\u001b[0m \u001b[1;34mr\"C:\\Users\\Anzony\\Downloads\\backuppruebas.pst\"\u001b[0m \u001b[1;33m)\u001b[0m\u001b[1;33m\u001b[0m\u001b[1;33m\u001b[0m\u001b[0m\n",
      "\u001b[1;31mModuleNotFoundError\u001b[0m: No module named 'libratom'"
     ]
    }
   ],
   "source": [
    "from libratom.lib.pff import PffArchive\n",
    "from email import generator\n",
    "from pathlib import Path\n",
    "\n",
    "archive = PffArchive( r\"C:\\Users\\Anzony\\Downloads\\backuppruebas.pst\" )\n",
    "eml_out = Path(Path.cwd() / \"emls\")\n",
    "\n",
    "if not eml_out.exists():\n",
    "  eml_out.mkdir()\n",
    "\n",
    "print(\"Writing messages to .eml\")\n",
    "for folder in archive.folders():\n",
    "    if folder.get_number_of_sub_messages() != 0:\n",
    "        for message in folder.sub_messages:\n",
    "            name = message.subject.replace(\" \", \"_\")\n",
    "            name = name.replace(\"/\",\"-\")\n",
    "            filename = eml_out / f\"{message.identifier}_{name}.eml\"\n",
    "            filename.write_text(archive.format_message(message))\n",
    "print(\"Done!\")"
   ]
  },
  {
   "cell_type": "code",
   "execution_count": 3,
   "metadata": {},
   "outputs": [],
   "source": [
    "import aspose.email"
   ]
  },
  {
   "cell_type": "code",
   "execution_count": 4,
   "metadata": {},
   "outputs": [
    {
     "ename": "AttributeError",
     "evalue": "module 'aspose.email' has no attribute 'modules'",
     "output_type": "error",
     "traceback": [
      "\u001b[1;31m---------------------------------------------------------------------------\u001b[0m",
      "\u001b[1;31mAttributeError\u001b[0m                            Traceback (most recent call last)",
      "\u001b[1;32m<ipython-input-4-12702158cf76>\u001b[0m in \u001b[0;36m<module>\u001b[1;34m\u001b[0m\n\u001b[1;32m----> 1\u001b[1;33m \u001b[0mcurrent_module\u001b[0m \u001b[1;33m=\u001b[0m \u001b[0maspose\u001b[0m\u001b[1;33m.\u001b[0m\u001b[0memail\u001b[0m\u001b[1;33m.\u001b[0m\u001b[0mmodules\u001b[0m\u001b[1;33m[\u001b[0m\u001b[0m__name__\u001b[0m\u001b[1;33m]\u001b[0m\u001b[1;33m\u001b[0m\u001b[1;33m\u001b[0m\u001b[0m\n\u001b[0m",
      "\u001b[1;31mAttributeError\u001b[0m: module 'aspose.email' has no attribute 'modules'"
     ]
    }
   ],
   "source": [
    "current_module = aspose.email.modules[__name__]"
   ]
  },
  {
   "cell_type": "code",
   "execution_count": 2,
   "metadata": {},
   "outputs": [
    {
     "ename": "NameError",
     "evalue": "name 'PersonalStorage' is not defined",
     "output_type": "error",
     "traceback": [
      "\u001b[1;31m---------------------------------------------------------------------------\u001b[0m",
      "\u001b[1;31mNameError\u001b[0m                                 Traceback (most recent call last)",
      "\u001b[1;32m<ipython-input-2-6b5b6fae47a5>\u001b[0m in \u001b[0;36m<module>\u001b[1;34m\u001b[0m\n\u001b[0;32m      2\u001b[0m \u001b[1;33m\u001b[0m\u001b[0m\n\u001b[0;32m      3\u001b[0m \u001b[1;31m# Load PST file\u001b[0m\u001b[1;33m\u001b[0m\u001b[1;33m\u001b[0m\u001b[1;33m\u001b[0m\u001b[0m\n\u001b[1;32m----> 4\u001b[1;33m \u001b[0mpersonalStorage\u001b[0m \u001b[1;33m=\u001b[0m \u001b[0mPersonalStorage\u001b[0m\u001b[1;33m.\u001b[0m\u001b[0mfrom_file\u001b[0m\u001b[1;33m(\u001b[0m \u001b[1;34mr\"C:\\Users\\Anzony\\Downloads\\backuppruebas.pst\"\u001b[0m \u001b[1;33m)\u001b[0m\u001b[1;33m\u001b[0m\u001b[1;33m\u001b[0m\u001b[0m\n\u001b[0m\u001b[0;32m      5\u001b[0m \u001b[1;33m\u001b[0m\u001b[0m\n\u001b[0;32m      6\u001b[0m \u001b[1;31m# Get folders' collection\u001b[0m\u001b[1;33m\u001b[0m\u001b[1;33m\u001b[0m\u001b[1;33m\u001b[0m\u001b[0m\n",
      "\u001b[1;31mNameError\u001b[0m: name 'PersonalStorage' is not defined"
     ]
    }
   ],
   "source": [
    "from aspose.email import *\n",
    "\n",
    "# Load PST file\n",
    "personalStorage = PersonalStorage.from_file( r\"C:\\Users\\Anzony\\Downloads\\backuppruebas.pst\" )\n",
    "\n",
    "# Get folders' collection\n",
    "folderInfoCollection = personalStorage.root_folder.get_sub_folders()\n",
    "\n",
    "# Extract folders' information\n",
    "for folderInfo in folderInfoCollection:\n",
    "    print(\"Folder: \" + folderInfo.display_name)\n",
    "    print(\"Total Items: \" + str(folderInfo.content_count))\n",
    "    print(\"Total Unread Items: \" + str(folderInfo.content_unread_count))"
   ]
  }
 ],
 "metadata": {
  "hide_input": false,
  "kernelspec": {
   "display_name": "Python 3",
   "language": "python",
   "name": "python3"
  },
  "language_info": {
   "codemirror_mode": {
    "name": "ipython",
    "version": 3
   },
   "file_extension": ".py",
   "mimetype": "text/x-python",
   "name": "python",
   "nbconvert_exporter": "python",
   "pygments_lexer": "ipython3",
   "version": "3.8.6"
  },
  "toc": {
   "base_numbering": 1,
   "nav_menu": {},
   "number_sections": true,
   "sideBar": true,
   "skip_h1_title": false,
   "title_cell": "Table of Contents",
   "title_sidebar": "Contents",
   "toc_cell": false,
   "toc_position": {},
   "toc_section_display": true,
   "toc_window_display": false
  }
 },
 "nbformat": 4,
 "nbformat_minor": 4
}
